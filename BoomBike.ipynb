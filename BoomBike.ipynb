{
 "cells": [
  {
   "cell_type": "markdown",
   "metadata": {},
   "source": [
    "## Bike Sharing Case Study"
   ]
  },
  {
   "cell_type": "markdown",
   "metadata": {},
   "source": [
    "#### Problem Statement : \n",
    "A bike-sharing system is a service in which bikes are made available for shared use to individuals on a short term basis for a price or free.\n",
    "\n",
    "A US bike-sharing provider BoomBikes has recently suffered considerable dips in their revenues due to the ongoing Corona pandemic.The company wants to come up with a mindful business plan to be able to accelerate its revenue as soon as the ongoing lockdown comes to an end so that the economy restores to a healthy state. \n",
    "\n",
    "The company wants to know:\n",
    "\n",
    "1. Which variables are significant in predicting the demand for shared bikes.\n",
    "2. How well those variables describe the bike demands"
   ]
  },
  {
   "cell_type": "markdown",
   "metadata": {},
   "source": [
    "### Importing and Understanding Data"
   ]
  },
  {
   "cell_type": "code",
   "execution_count": 1440,
   "metadata": {},
   "outputs": [],
   "source": [
    "# Importing all required packages\n",
    "import numpy as np\n",
    "import pandas as pd\n",
    "import matplotlib.pyplot as plt\n",
    "import seaborn as sns\n",
    "%matplotlib inline"
   ]
  },
  {
   "cell_type": "code",
   "execution_count": 1441,
   "metadata": {},
   "outputs": [],
   "source": [
    "# Supress Warnings\n",
    "import warnings\n",
    "warnings.filterwarnings('ignore')"
   ]
  },
  {
   "cell_type": "code",
   "execution_count": 1442,
   "metadata": {},
   "outputs": [
    {
     "data": {
      "text/html": [
       "<div>\n",
       "<style scoped>\n",
       "    .dataframe tbody tr th:only-of-type {\n",
       "        vertical-align: middle;\n",
       "    }\n",
       "\n",
       "    .dataframe tbody tr th {\n",
       "        vertical-align: top;\n",
       "    }\n",
       "\n",
       "    .dataframe thead th {\n",
       "        text-align: right;\n",
       "    }\n",
       "</style>\n",
       "<table border=\"1\" class=\"dataframe\">\n",
       "  <thead>\n",
       "    <tr style=\"text-align: right;\">\n",
       "      <th></th>\n",
       "      <th>instant</th>\n",
       "      <th>dteday</th>\n",
       "      <th>season</th>\n",
       "      <th>yr</th>\n",
       "      <th>mnth</th>\n",
       "      <th>holiday</th>\n",
       "      <th>weekday</th>\n",
       "      <th>workingday</th>\n",
       "      <th>weathersit</th>\n",
       "      <th>temp</th>\n",
       "      <th>atemp</th>\n",
       "      <th>hum</th>\n",
       "      <th>windspeed</th>\n",
       "      <th>casual</th>\n",
       "      <th>registered</th>\n",
       "      <th>cnt</th>\n",
       "    </tr>\n",
       "  </thead>\n",
       "  <tbody>\n",
       "    <tr>\n",
       "      <td>0</td>\n",
       "      <td>1</td>\n",
       "      <td>01-01-2018</td>\n",
       "      <td>1</td>\n",
       "      <td>0</td>\n",
       "      <td>1</td>\n",
       "      <td>0</td>\n",
       "      <td>6</td>\n",
       "      <td>0</td>\n",
       "      <td>2</td>\n",
       "      <td>14.110847</td>\n",
       "      <td>18.18125</td>\n",
       "      <td>80.5833</td>\n",
       "      <td>10.749882</td>\n",
       "      <td>331</td>\n",
       "      <td>654</td>\n",
       "      <td>985</td>\n",
       "    </tr>\n",
       "    <tr>\n",
       "      <td>1</td>\n",
       "      <td>2</td>\n",
       "      <td>02-01-2018</td>\n",
       "      <td>1</td>\n",
       "      <td>0</td>\n",
       "      <td>1</td>\n",
       "      <td>0</td>\n",
       "      <td>0</td>\n",
       "      <td>0</td>\n",
       "      <td>2</td>\n",
       "      <td>14.902598</td>\n",
       "      <td>17.68695</td>\n",
       "      <td>69.6087</td>\n",
       "      <td>16.652113</td>\n",
       "      <td>131</td>\n",
       "      <td>670</td>\n",
       "      <td>801</td>\n",
       "    </tr>\n",
       "    <tr>\n",
       "      <td>2</td>\n",
       "      <td>3</td>\n",
       "      <td>03-01-2018</td>\n",
       "      <td>1</td>\n",
       "      <td>0</td>\n",
       "      <td>1</td>\n",
       "      <td>0</td>\n",
       "      <td>1</td>\n",
       "      <td>1</td>\n",
       "      <td>1</td>\n",
       "      <td>8.050924</td>\n",
       "      <td>9.47025</td>\n",
       "      <td>43.7273</td>\n",
       "      <td>16.636703</td>\n",
       "      <td>120</td>\n",
       "      <td>1229</td>\n",
       "      <td>1349</td>\n",
       "    </tr>\n",
       "    <tr>\n",
       "      <td>3</td>\n",
       "      <td>4</td>\n",
       "      <td>04-01-2018</td>\n",
       "      <td>1</td>\n",
       "      <td>0</td>\n",
       "      <td>1</td>\n",
       "      <td>0</td>\n",
       "      <td>2</td>\n",
       "      <td>1</td>\n",
       "      <td>1</td>\n",
       "      <td>8.200000</td>\n",
       "      <td>10.60610</td>\n",
       "      <td>59.0435</td>\n",
       "      <td>10.739832</td>\n",
       "      <td>108</td>\n",
       "      <td>1454</td>\n",
       "      <td>1562</td>\n",
       "    </tr>\n",
       "    <tr>\n",
       "      <td>4</td>\n",
       "      <td>5</td>\n",
       "      <td>05-01-2018</td>\n",
       "      <td>1</td>\n",
       "      <td>0</td>\n",
       "      <td>1</td>\n",
       "      <td>0</td>\n",
       "      <td>3</td>\n",
       "      <td>1</td>\n",
       "      <td>1</td>\n",
       "      <td>9.305237</td>\n",
       "      <td>11.46350</td>\n",
       "      <td>43.6957</td>\n",
       "      <td>12.522300</td>\n",
       "      <td>82</td>\n",
       "      <td>1518</td>\n",
       "      <td>1600</td>\n",
       "    </tr>\n",
       "  </tbody>\n",
       "</table>\n",
       "</div>"
      ],
      "text/plain": [
       "   instant      dteday  season  yr  mnth  holiday  weekday  workingday  \\\n",
       "0        1  01-01-2018       1   0     1        0        6           0   \n",
       "1        2  02-01-2018       1   0     1        0        0           0   \n",
       "2        3  03-01-2018       1   0     1        0        1           1   \n",
       "3        4  04-01-2018       1   0     1        0        2           1   \n",
       "4        5  05-01-2018       1   0     1        0        3           1   \n",
       "\n",
       "   weathersit       temp     atemp      hum  windspeed  casual  registered  \\\n",
       "0           2  14.110847  18.18125  80.5833  10.749882     331         654   \n",
       "1           2  14.902598  17.68695  69.6087  16.652113     131         670   \n",
       "2           1   8.050924   9.47025  43.7273  16.636703     120        1229   \n",
       "3           1   8.200000  10.60610  59.0435  10.739832     108        1454   \n",
       "4           1   9.305237  11.46350  43.6957  12.522300      82        1518   \n",
       "\n",
       "    cnt  \n",
       "0   985  \n",
       "1   801  \n",
       "2  1349  \n",
       "3  1562  \n",
       "4  1600  "
      ]
     },
     "execution_count": 1442,
     "metadata": {},
     "output_type": "execute_result"
    }
   ],
   "source": [
    "#Importing dataset\n",
    "boombikes = pd.read_csv('day.csv')\n",
    "# Check the head of the dataset\n",
    "boombikes.head()"
   ]
  },
  {
   "cell_type": "code",
   "execution_count": 1443,
   "metadata": {},
   "outputs": [
    {
     "name": "stdout",
     "output_type": "stream",
     "text": [
      "Data types of the columns : \n",
      "----------------------------\n",
      "<class 'pandas.core.frame.DataFrame'>\n",
      "RangeIndex: 730 entries, 0 to 729\n",
      "Data columns (total 16 columns):\n",
      "instant       730 non-null int64\n",
      "dteday        730 non-null object\n",
      "season        730 non-null int64\n",
      "yr            730 non-null int64\n",
      "mnth          730 non-null int64\n",
      "holiday       730 non-null int64\n",
      "weekday       730 non-null int64\n",
      "workingday    730 non-null int64\n",
      "weathersit    730 non-null int64\n",
      "temp          730 non-null float64\n",
      "atemp         730 non-null float64\n",
      "hum           730 non-null float64\n",
      "windspeed     730 non-null float64\n",
      "casual        730 non-null int64\n",
      "registered    730 non-null int64\n",
      "cnt           730 non-null int64\n",
      "dtypes: float64(4), int64(11), object(1)\n",
      "memory usage: 91.4+ KB\n",
      "None\n",
      "\n",
      "Number of rows x columns : \n",
      "---------------------------\n",
      "(730, 16)\n",
      "\n",
      "Statistics pertaining to numerical columns : \n",
      "---------------------------------------------\n",
      "          instant      season          yr        mnth     holiday     weekday  \\\n",
      "count  730.000000  730.000000  730.000000  730.000000  730.000000  730.000000   \n",
      "mean   365.500000    2.498630    0.500000    6.526027    0.028767    2.997260   \n",
      "std    210.877136    1.110184    0.500343    3.450215    0.167266    2.006161   \n",
      "min      1.000000    1.000000    0.000000    1.000000    0.000000    0.000000   \n",
      "25%    183.250000    2.000000    0.000000    4.000000    0.000000    1.000000   \n",
      "50%    365.500000    3.000000    0.500000    7.000000    0.000000    3.000000   \n",
      "75%    547.750000    3.000000    1.000000   10.000000    0.000000    5.000000   \n",
      "max    730.000000    4.000000    1.000000   12.000000    1.000000    6.000000   \n",
      "\n",
      "       workingday  weathersit        temp       atemp         hum   windspeed  \\\n",
      "count  730.000000  730.000000  730.000000  730.000000  730.000000  730.000000   \n",
      "mean     0.683562    1.394521   20.319259   23.726322   62.765175   12.763620   \n",
      "std      0.465405    0.544807    7.506729    8.150308   14.237589    5.195841   \n",
      "min      0.000000    1.000000    2.424346    3.953480    0.000000    1.500244   \n",
      "25%      0.000000    1.000000   13.811885   16.889713   52.000000    9.041650   \n",
      "50%      1.000000    1.000000   20.465826   24.368225   62.625000   12.125325   \n",
      "75%      1.000000    2.000000   26.880615   30.445775   72.989575   15.625589   \n",
      "max      1.000000    3.000000   35.328347   42.044800   97.250000   34.000021   \n",
      "\n",
      "            casual   registered          cnt  \n",
      "count   730.000000   730.000000   730.000000  \n",
      "mean    849.249315  3658.757534  4508.006849  \n",
      "std     686.479875  1559.758728  1936.011647  \n",
      "min       2.000000    20.000000    22.000000  \n",
      "25%     316.250000  2502.250000  3169.750000  \n",
      "50%     717.000000  3664.500000  4548.500000  \n",
      "75%    1096.500000  4783.250000  5966.000000  \n",
      "max    3410.000000  6946.000000  8714.000000  \n"
     ]
    }
   ],
   "source": [
    "#Inspect the various aspects of the housing dataframe\n",
    "print(\"Data types of the columns : \")\n",
    "print(\"----------------------------\")\n",
    "print(boombikes.info()) #Checking the data types of the columns\n",
    "print()\n",
    "print(\"Number of rows x columns : \")\n",
    "print(\"---------------------------\")\n",
    "print(boombikes.shape) #Prints total number of rows and columns\n",
    "print()\n",
    "print(\"Statistics pertaining to numerical columns : \")\n",
    "print(\"---------------------------------------------\")\n",
    "print(boombikes.describe()) #Prints out the statistics pertaining to Numberical columns of the data frame."
   ]
  },
  {
   "cell_type": "code",
   "execution_count": 1444,
   "metadata": {},
   "outputs": [
    {
     "data": {
      "text/plain": [
       "<matplotlib.axes._subplots.AxesSubplot at 0x1465a833bc8>"
      ]
     },
     "execution_count": 1444,
     "metadata": {},
     "output_type": "execute_result"
    },
    {
     "data": {
      "image/png": "[encoded data removed]",
      "text/plain": [
       "<Figure size 432x288 with 1 Axes>"
      ]
     },
     "metadata": {
      "needs_background": "light"
     },
     "output_type": "display_data"
    }
   ],
   "source": [
    "#Line plot to understand the pattern of cnt change over the time\n",
    "# instant vs cnt\n",
    "boombikes.plot.line(x='instant', y='cnt')"
   ]
  },
  {
   "cell_type": "code",
   "execution_count": 1445,
   "metadata": {},
   "outputs": [],
   "source": [
    "# REMOVING UNECESSARY COLUMNS : \n",
    "\n",
    "# Dropping \"Instant\" column as it is just a index column and doesn't seem to be contributing to any further data analysis\n",
    "boombikes.drop('instant',axis=1,inplace=True)\n",
    "\n",
    "# Dropping \"dteday\" column as it date column and we already have columns like month, yr,season which gives much more information about a day.\n",
    "boombikes.drop('dteday',axis=1,inplace=True)\n",
    "\n",
    "# Dropping \"casual\" and \"registered\" column as the value of these columns can be found only after a day and cannot be in hand for data prediction.\n",
    "# \"casual\" and \"registered\" are therefore seems to be a kind of dependent variable and also the sum of both is equal to \"cnt\"\n",
    "boombikes.drop('casual',axis=1,inplace=True)\n",
    "boombikes.drop('registered',axis=1,inplace=True)"
   ]
  },
  {
   "cell_type": "markdown",
   "metadata": {},
   "source": [
    "The Columns \"temp\" and \"atemp\" represent \"temperature in Celsius\" and \"feeling temperature in Celsius\" respectively.\n",
    "There is not much difference between these two variables and are quite similar.\n",
    "We can just keep any one of them for our calculation and predictions.\n",
    "Here, We will keep temp."
   ]
  },
  {
   "cell_type": "code",
   "execution_count": 1446,
   "metadata": {},
   "outputs": [],
   "source": [
    "#Removing \"atemp\" column from the dataframe\n",
    "boombikes.drop('atemp',axis=1,inplace=True)"
   ]
  },
  {
   "cell_type": "code",
   "execution_count": 1447,
   "metadata": {},
   "outputs": [
    {
     "data": {
      "text/html": [
       "<div>\n",
       "<style scoped>\n",
       "    .dataframe tbody tr th:only-of-type {\n",
       "        vertical-align: middle;\n",
       "    }\n",
       "\n",
       "    .dataframe tbody tr th {\n",
       "        vertical-align: top;\n",
       "    }\n",
       "\n",
       "    .dataframe thead th {\n",
       "        text-align: right;\n",
       "    }\n",
       "</style>\n",
       "<table border=\"1\" class=\"dataframe\">\n",
       "  <thead>\n",
       "    <tr style=\"text-align: right;\">\n",
       "      <th></th>\n",
       "      <th>season</th>\n",
       "      <th>yr</th>\n",
       "      <th>mnth</th>\n",
       "      <th>holiday</th>\n",
       "      <th>weekday</th>\n",
       "      <th>workingday</th>\n",
       "      <th>weathersit</th>\n",
       "      <th>temp</th>\n",
       "      <th>hum</th>\n",
       "      <th>windspeed</th>\n",
       "      <th>cnt</th>\n",
       "    </tr>\n",
       "  </thead>\n",
       "  <tbody>\n",
       "    <tr>\n",
       "      <td>0</td>\n",
       "      <td>1</td>\n",
       "      <td>0</td>\n",
       "      <td>1</td>\n",
       "      <td>0</td>\n",
       "      <td>6</td>\n",
       "      <td>0</td>\n",
       "      <td>2</td>\n",
       "      <td>14.110847</td>\n",
       "      <td>80.5833</td>\n",
       "      <td>10.749882</td>\n",
       "      <td>985</td>\n",
       "    </tr>\n",
       "    <tr>\n",
       "      <td>1</td>\n",
       "      <td>1</td>\n",
       "      <td>0</td>\n",
       "      <td>1</td>\n",
       "      <td>0</td>\n",
       "      <td>0</td>\n",
       "      <td>0</td>\n",
       "      <td>2</td>\n",
       "      <td>14.902598</td>\n",
       "      <td>69.6087</td>\n",
       "      <td>16.652113</td>\n",
       "      <td>801</td>\n",
       "    </tr>\n",
       "    <tr>\n",
       "      <td>2</td>\n",
       "      <td>1</td>\n",
       "      <td>0</td>\n",
       "      <td>1</td>\n",
       "      <td>0</td>\n",
       "      <td>1</td>\n",
       "      <td>1</td>\n",
       "      <td>1</td>\n",
       "      <td>8.050924</td>\n",
       "      <td>43.7273</td>\n",
       "      <td>16.636703</td>\n",
       "      <td>1349</td>\n",
       "    </tr>\n",
       "    <tr>\n",
       "      <td>3</td>\n",
       "      <td>1</td>\n",
       "      <td>0</td>\n",
       "      <td>1</td>\n",
       "      <td>0</td>\n",
       "      <td>2</td>\n",
       "      <td>1</td>\n",
       "      <td>1</td>\n",
       "      <td>8.200000</td>\n",
       "      <td>59.0435</td>\n",
       "      <td>10.739832</td>\n",
       "      <td>1562</td>\n",
       "    </tr>\n",
       "    <tr>\n",
       "      <td>4</td>\n",
       "      <td>1</td>\n",
       "      <td>0</td>\n",
       "      <td>1</td>\n",
       "      <td>0</td>\n",
       "      <td>3</td>\n",
       "      <td>1</td>\n",
       "      <td>1</td>\n",
       "      <td>9.305237</td>\n",
       "      <td>43.6957</td>\n",
       "      <td>12.522300</td>\n",
       "      <td>1600</td>\n",
       "    </tr>\n",
       "  </tbody>\n",
       "</table>\n",
       "</div>"
      ],
      "text/plain": [
       "   season  yr  mnth  holiday  weekday  workingday  weathersit       temp  \\\n",
       "0       1   0     1        0        6           0           2  14.110847   \n",
       "1       1   0     1        0        0           0           2  14.902598   \n",
       "2       1   0     1        0        1           1           1   8.050924   \n",
       "3       1   0     1        0        2           1           1   8.200000   \n",
       "4       1   0     1        0        3           1           1   9.305237   \n",
       "\n",
       "       hum  windspeed   cnt  \n",
       "0  80.5833  10.749882   985  \n",
       "1  69.6087  16.652113   801  \n",
       "2  43.7273  16.636703  1349  \n",
       "3  59.0435  10.739832  1562  \n",
       "4  43.6957  12.522300  1600  "
      ]
     },
     "execution_count": 1447,
     "metadata": {},
     "output_type": "execute_result"
    }
   ],
   "source": [
    "# Variables in dataframe after dropping unnecessary columns:\n",
    "boombikes.head()"
   ]
  },
  {
   "cell_type": "markdown",
   "metadata": {},
   "source": [
    "###### Mapping the non ordinal values of categorical variables\n",
    "\n",
    "The columns \"season\", \"mnth\", \"weekday\" and \"weathersit\" are categorical columns.\n",
    "These are also non ordinal columns and hence having numbers as category for these can get confused with ordinal.\n",
    "So, we can map these columns to the values which is actually representing the numbers for them. (Later it will help us while dummyfying the variables)"
   ]
  },
  {
   "cell_type": "code",
   "execution_count": 1448,
   "metadata": {},
   "outputs": [],
   "source": [
    "# Mapping the values of \"season\" column \n",
    "season = ['spring','summer','fall','winter']\n",
    "def season_map(x):\n",
    "    x=x-1\n",
    "    return season[x]\n",
    "\n",
    "boombikes['season'] = boombikes['season'].apply(season_map)"
   ]
  },
  {
   "cell_type": "code",
   "execution_count": 1449,
   "metadata": {},
   "outputs": [],
   "source": [
    "# Mapping the values of \"mnth\" column \n",
    "month = ['Jan','Feb','Mar','April','May','June','July','Aug','Sept','Oct','Nov','Dec']\n",
    "def month_map(x):\n",
    "    x=x-1\n",
    "    return month[x]\n",
    "\n",
    "boombikes['mnth'] = boombikes['mnth'].apply(month_map)"
   ]
  },
  {
   "cell_type": "code",
   "execution_count": 1450,
   "metadata": {},
   "outputs": [],
   "source": [
    "# Mapping the values of \"weekday\" column \n",
    "weekday = ['Sunday','Monday','Tuesday','Wednesday','Thursday','Friday','Saturday']\n",
    "def weekday_map(x):\n",
    "    x=x-1\n",
    "    return weekday[x]\n",
    "\n",
    "boombikes['weekday'] = boombikes['weekday'].apply(weekday_map)"
   ]
  },
  {
   "cell_type": "code",
   "execution_count": 1451,
   "metadata": {},
   "outputs": [],
   "source": [
    "# Mapping the values of \"weathersit\" column \n",
    "weathersit = ['Clear','Mist + Cloudy','Light Snow + Rain','Heavy Rain + Snow + Fog']\n",
    "def weathersit_map(x):\n",
    "    x=x-1\n",
    "    return weathersit[x]\n",
    "\n",
    "boombikes['weathersit'] = boombikes['weathersit'].apply(weathersit_map)"
   ]
  },
  {
   "cell_type": "markdown",
   "metadata": {},
   "source": [
    "### Data Visualisation"
   ]
  },
  {
   "cell_type": "markdown",
   "metadata": {},
   "source": [
    "We can perform the bivariate analysis to understand the variation of 'cnt' according to other variables(both categorical and numerical)"
   ]
  },
  {
   "cell_type": "code",
   "execution_count": 1452,
   "metadata": {},
   "outputs": [
    {
     "name": "stdout",
     "output_type": "stream",
     "text": [
      "weekday\n",
      "Friday       4550.542857\n",
      "Monday       4510.663462\n",
      "Saturday     4228.828571\n",
      "Sunday       4338.123810\n",
      "Thursday     4690.288462\n",
      "Tuesday      4574.893204\n",
      "Wednesday    4667.259615\n",
      "Name: cnt, dtype: float64\n",
      "\n",
      "mnth\n",
      "April    4484.900000\n",
      "Aug      5664.419355\n",
      "Dec      3403.806452\n",
      "Feb      2669.964286\n",
      "Jan      2176.338710\n",
      "July     5563.677419\n",
      "June     5772.366667\n",
      "Mar      3692.258065\n",
      "May      5349.774194\n",
      "Nov      4247.183333\n",
      "Oct      5199.225806\n",
      "Sept     5766.516667\n",
      "Name: cnt, dtype: float64\n",
      "\n"
     ]
    }
   ],
   "source": [
    "# weekday vs cnt\n",
    "print(boombikes.groupby('weekday')['cnt'].mean())\n",
    "print()\n",
    "# mnth vs cnt\n",
    "print(boombikes.groupby('mnth')['cnt'].mean())\n",
    "print()"
   ]
  },
  {
   "cell_type": "markdown",
   "metadata": {},
   "source": [
    "In this we see that on weekday Thursday and in the month June, the count in the number of people renting the bikes are large."
   ]
  },
  {
   "cell_type": "code",
   "execution_count": 1453,
   "metadata": {},
   "outputs": [
    {
     "data": {
      "text/plain": [
       "<matplotlib.axes._subplots.AxesSubplot at 0x1465ae7b608>"
      ]
     },
     "execution_count": 1453,
     "metadata": {},
     "output_type": "execute_result"
    },
    {
     "data": {
      "image/png": "[encoded data removed]",
      "text/plain": [
       "<Figure size 432x288 with 1 Axes>"
      ]
     },
     "metadata": {
      "needs_background": "light"
     },
     "output_type": "display_data"
    }
   ],
   "source": [
    "# season vs cnt\n",
    "sns.boxplot(boombikes['season'],boombikes['cnt'])"
   ]
  },
  {
   "cell_type": "markdown",
   "metadata": {},
   "source": [
    "From the above plot we see that the mean of the fall season is high for cnt i.e more people like to hire bikes during fall.\n",
    "We can also see that there are few outliers in spring and winter season."
   ]
  },
  {
   "cell_type": "code",
   "execution_count": 1454,
   "metadata": {},
   "outputs": [
    {
     "data": {
      "text/plain": [
       "<matplotlib.axes._subplots.AxesSubplot at 0x1465aff7248>"
      ]
     },
     "execution_count": 1454,
     "metadata": {},
     "output_type": "execute_result"
    },
    {
     "data": {
      "image/png": "[encoded data removed]",
      "text/plain": [
       "<Figure size 432x288 with 1 Axes>"
      ]
     },
     "metadata": {
      "needs_background": "light"
     },
     "output_type": "display_data"
    }
   ],
   "source": [
    "# weathersit vs cnt\n",
    "boombikes.groupby('weathersit')['cnt'].agg(['mean','median']).plot.bar()"
   ]
  },
  {
   "cell_type": "markdown",
   "metadata": {},
   "source": [
    "From the above bar graph, we see that the in clear sky, people tend to rent more bikes. And also, the mean and median for the categories of weathersit is similar, hence we can say that there no outliers in them."
   ]
  },
  {
   "cell_type": "code",
   "execution_count": 1455,
   "metadata": {},
   "outputs": [
    {
     "data": {
      "text/plain": [
       "<matplotlib.axes._subplots.AxesSubplot at 0x1465aa03288>"
      ]
     },
     "execution_count": 1455,
     "metadata": {},
     "output_type": "execute_result"
    },
    {
     "data": {
      "image/png": "[encoded data removed]",
      "text/plain": [
       "<Figure size 432x288 with 1 Axes>"
      ]
     },
     "metadata": {
      "needs_background": "light"
     },
     "output_type": "display_data"
    }
   ],
   "source": [
    "# weathersit vs cnt\n",
    "boombikes.groupby('holiday')['cnt'].mean().plot.bar()"
   ]
  },
  {
   "cell_type": "markdown",
   "metadata": {},
   "source": [
    "From above bar plot of holiday and cnt, we can say that people tend to hire more bikes on non holiday days rather than on Holiday."
   ]
  },
  {
   "cell_type": "code",
   "execution_count": 1456,
   "metadata": {},
   "outputs": [
    {
     "data": {
      "image/png": "[encoded data removed]",
      "text/plain": [
       "<Figure size 1260x1260 with 56 Axes>"
      ]
     },
     "metadata": {
      "needs_background": "light"
     },
     "output_type": "display_data"
    }
   ],
   "source": [
    "#plot the pairplot between numerical variables of the boombikes\n",
    "sns.pairplot(boombikes)\n",
    "plt.show()"
   ]
  },
  {
   "cell_type": "markdown",
   "metadata": {},
   "source": [
    "From the above pair plot we can see only temp variable tends to correlate a little linearly with cnt."
   ]
  },
  {
   "cell_type": "markdown",
   "metadata": {},
   "source": [
    "###### Correlation between the variables of boombikes data frame"
   ]
  },
  {
   "cell_type": "code",
   "execution_count": 1457,
   "metadata": {},
   "outputs": [
    {
     "data": {
      "text/html": [
       "<div>\n",
       "<style scoped>\n",
       "    .dataframe tbody tr th:only-of-type {\n",
       "        vertical-align: middle;\n",
       "    }\n",
       "\n",
       "    .dataframe tbody tr th {\n",
       "        vertical-align: top;\n",
       "    }\n",
       "\n",
       "    .dataframe thead th {\n",
       "        text-align: right;\n",
       "    }\n",
       "</style>\n",
       "<table border=\"1\" class=\"dataframe\">\n",
       "  <thead>\n",
       "    <tr style=\"text-align: right;\">\n",
       "      <th></th>\n",
       "      <th>Variable1</th>\n",
       "      <th>Variable2</th>\n",
       "      <th>Correlation</th>\n",
       "    </tr>\n",
       "  </thead>\n",
       "  <tbody>\n",
       "    <tr>\n",
       "      <td>45</td>\n",
       "      <td>cnt</td>\n",
       "      <td>temp</td>\n",
       "      <td>0.6270</td>\n",
       "    </tr>\n",
       "    <tr>\n",
       "      <td>42</td>\n",
       "      <td>cnt</td>\n",
       "      <td>yr</td>\n",
       "      <td>0.5697</td>\n",
       "    </tr>\n",
       "    <tr>\n",
       "      <td>15</td>\n",
       "      <td>workingday</td>\n",
       "      <td>holiday</td>\n",
       "      <td>0.2529</td>\n",
       "    </tr>\n",
       "    <tr>\n",
       "      <td>39</td>\n",
       "      <td>windspeed</td>\n",
       "      <td>hum</td>\n",
       "      <td>0.2485</td>\n",
       "    </tr>\n",
       "    <tr>\n",
       "      <td>47</td>\n",
       "      <td>cnt</td>\n",
       "      <td>windspeed</td>\n",
       "      <td>0.2351</td>\n",
       "    </tr>\n",
       "    <tr>\n",
       "      <td>38</td>\n",
       "      <td>windspeed</td>\n",
       "      <td>temp</td>\n",
       "      <td>0.1582</td>\n",
       "    </tr>\n",
       "    <tr>\n",
       "      <td>31</td>\n",
       "      <td>hum</td>\n",
       "      <td>temp</td>\n",
       "      <td>0.1286</td>\n",
       "    </tr>\n",
       "    <tr>\n",
       "      <td>28</td>\n",
       "      <td>hum</td>\n",
       "      <td>yr</td>\n",
       "      <td>0.1125</td>\n",
       "    </tr>\n",
       "    <tr>\n",
       "      <td>46</td>\n",
       "      <td>cnt</td>\n",
       "      <td>hum</td>\n",
       "      <td>0.0985</td>\n",
       "    </tr>\n",
       "    <tr>\n",
       "      <td>43</td>\n",
       "      <td>cnt</td>\n",
       "      <td>holiday</td>\n",
       "      <td>0.0688</td>\n",
       "    </tr>\n",
       "    <tr>\n",
       "      <td>44</td>\n",
       "      <td>cnt</td>\n",
       "      <td>workingday</td>\n",
       "      <td>0.0625</td>\n",
       "    </tr>\n",
       "    <tr>\n",
       "      <td>23</td>\n",
       "      <td>temp</td>\n",
       "      <td>workingday</td>\n",
       "      <td>0.0535</td>\n",
       "    </tr>\n",
       "    <tr>\n",
       "      <td>21</td>\n",
       "      <td>temp</td>\n",
       "      <td>yr</td>\n",
       "      <td>0.0488</td>\n",
       "    </tr>\n",
       "    <tr>\n",
       "      <td>22</td>\n",
       "      <td>temp</td>\n",
       "      <td>holiday</td>\n",
       "      <td>0.0288</td>\n",
       "    </tr>\n",
       "    <tr>\n",
       "      <td>30</td>\n",
       "      <td>hum</td>\n",
       "      <td>workingday</td>\n",
       "      <td>0.0232</td>\n",
       "    </tr>\n",
       "    <tr>\n",
       "      <td>37</td>\n",
       "      <td>windspeed</td>\n",
       "      <td>workingday</td>\n",
       "      <td>0.0187</td>\n",
       "    </tr>\n",
       "    <tr>\n",
       "      <td>29</td>\n",
       "      <td>hum</td>\n",
       "      <td>holiday</td>\n",
       "      <td>0.0157</td>\n",
       "    </tr>\n",
       "    <tr>\n",
       "      <td>35</td>\n",
       "      <td>windspeed</td>\n",
       "      <td>yr</td>\n",
       "      <td>0.0116</td>\n",
       "    </tr>\n",
       "    <tr>\n",
       "      <td>7</td>\n",
       "      <td>holiday</td>\n",
       "      <td>yr</td>\n",
       "      <td>0.0082</td>\n",
       "    </tr>\n",
       "    <tr>\n",
       "      <td>36</td>\n",
       "      <td>windspeed</td>\n",
       "      <td>holiday</td>\n",
       "      <td>0.0063</td>\n",
       "    </tr>\n",
       "    <tr>\n",
       "      <td>14</td>\n",
       "      <td>workingday</td>\n",
       "      <td>yr</td>\n",
       "      <td>0.0029</td>\n",
       "    </tr>\n",
       "  </tbody>\n",
       "</table>\n",
       "</div>"
      ],
      "text/plain": [
       "     Variable1   Variable2  Correlation\n",
       "45         cnt        temp       0.6270\n",
       "42         cnt          yr       0.5697\n",
       "15  workingday     holiday       0.2529\n",
       "39   windspeed         hum       0.2485\n",
       "47         cnt   windspeed       0.2351\n",
       "38   windspeed        temp       0.1582\n",
       "31         hum        temp       0.1286\n",
       "28         hum          yr       0.1125\n",
       "46         cnt         hum       0.0985\n",
       "43         cnt     holiday       0.0688\n",
       "44         cnt  workingday       0.0625\n",
       "23        temp  workingday       0.0535\n",
       "21        temp          yr       0.0488\n",
       "22        temp     holiday       0.0288\n",
       "30         hum  workingday       0.0232\n",
       "37   windspeed  workingday       0.0187\n",
       "29         hum     holiday       0.0157\n",
       "35   windspeed          yr       0.0116\n",
       "7      holiday          yr       0.0082\n",
       "36   windspeed     holiday       0.0063\n",
       "14  workingday          yr       0.0029"
      ]
     },
     "execution_count": 1457,
     "metadata": {},
     "output_type": "execute_result"
    }
   ],
   "source": [
    "# Let's check the correlation coefficients to see which variables are highly correlated\n",
    "\n",
    "corr = boombikes.corr()\n",
    "corr = corr.where(np.triu(np.ones(corr.shape),k=1).astype(np.bool))\n",
    "corrdf_1 = corr.unstack().reset_index()\n",
    "corrdf_1.columns=['Variable1','Variable2','Correlation']\n",
    "corrdf_1.dropna(subset=['Correlation'],inplace=True)\n",
    "corrdf_1.Correlation = round(abs(corrdf_1['Correlation']),4)\n",
    "corrdf_1.sort_values(by='Correlation', ascending=False)"
   ]
  },
  {
   "cell_type": "markdown",
   "metadata": {},
   "source": [
    "From the above correlation table, we can see that the cnt and temp variables are highly correlated. And cnt and workingday are least correlated."
   ]
  },
  {
   "cell_type": "markdown",
   "metadata": {},
   "source": [
    "### Data Preparation"
   ]
  },
  {
   "cell_type": "markdown",
   "metadata": {},
   "source": [
    "###### Dummy Variables\n",
    "\n",
    "We can convert the categorical into numerical in a non ordinal manner to make the linear regression efficient.\n",
    "We can use get_dummies function of pandas or we can also use one hot coding as well.\n",
    "Here, we will use get_dummies"
   ]
  },
  {
   "cell_type": "code",
   "execution_count": 1458,
   "metadata": {},
   "outputs": [
    {
     "data": {
      "text/html": [
       "<div>\n",
       "<style scoped>\n",
       "    .dataframe tbody tr th:only-of-type {\n",
       "        vertical-align: middle;\n",
       "    }\n",
       "\n",
       "    .dataframe tbody tr th {\n",
       "        vertical-align: top;\n",
       "    }\n",
       "\n",
       "    .dataframe thead th {\n",
       "        text-align: right;\n",
       "    }\n",
       "</style>\n",
       "<table border=\"1\" class=\"dataframe\">\n",
       "  <thead>\n",
       "    <tr style=\"text-align: right;\">\n",
       "      <th></th>\n",
       "      <th>season</th>\n",
       "      <th>yr</th>\n",
       "      <th>mnth</th>\n",
       "      <th>holiday</th>\n",
       "      <th>weekday</th>\n",
       "      <th>workingday</th>\n",
       "      <th>weathersit</th>\n",
       "      <th>temp</th>\n",
       "      <th>hum</th>\n",
       "      <th>windspeed</th>\n",
       "      <th>cnt</th>\n",
       "      <th>spring</th>\n",
       "      <th>summer</th>\n",
       "      <th>winter</th>\n",
       "    </tr>\n",
       "  </thead>\n",
       "  <tbody>\n",
       "    <tr>\n",
       "      <td>0</td>\n",
       "      <td>spring</td>\n",
       "      <td>0</td>\n",
       "      <td>Jan</td>\n",
       "      <td>0</td>\n",
       "      <td>Friday</td>\n",
       "      <td>0</td>\n",
       "      <td>Mist + Cloudy</td>\n",
       "      <td>14.110847</td>\n",
       "      <td>80.5833</td>\n",
       "      <td>10.749882</td>\n",
       "      <td>985</td>\n",
       "      <td>1</td>\n",
       "      <td>0</td>\n",
       "      <td>0</td>\n",
       "    </tr>\n",
       "    <tr>\n",
       "      <td>1</td>\n",
       "      <td>spring</td>\n",
       "      <td>0</td>\n",
       "      <td>Jan</td>\n",
       "      <td>0</td>\n",
       "      <td>Saturday</td>\n",
       "      <td>0</td>\n",
       "      <td>Mist + Cloudy</td>\n",
       "      <td>14.902598</td>\n",
       "      <td>69.6087</td>\n",
       "      <td>16.652113</td>\n",
       "      <td>801</td>\n",
       "      <td>1</td>\n",
       "      <td>0</td>\n",
       "      <td>0</td>\n",
       "    </tr>\n",
       "    <tr>\n",
       "      <td>2</td>\n",
       "      <td>spring</td>\n",
       "      <td>0</td>\n",
       "      <td>Jan</td>\n",
       "      <td>0</td>\n",
       "      <td>Sunday</td>\n",
       "      <td>1</td>\n",
       "      <td>Clear</td>\n",
       "      <td>8.050924</td>\n",
       "      <td>43.7273</td>\n",
       "      <td>16.636703</td>\n",
       "      <td>1349</td>\n",
       "      <td>1</td>\n",
       "      <td>0</td>\n",
       "      <td>0</td>\n",
       "    </tr>\n",
       "    <tr>\n",
       "      <td>3</td>\n",
       "      <td>spring</td>\n",
       "      <td>0</td>\n",
       "      <td>Jan</td>\n",
       "      <td>0</td>\n",
       "      <td>Monday</td>\n",
       "      <td>1</td>\n",
       "      <td>Clear</td>\n",
       "      <td>8.200000</td>\n",
       "      <td>59.0435</td>\n",
       "      <td>10.739832</td>\n",
       "      <td>1562</td>\n",
       "      <td>1</td>\n",
       "      <td>0</td>\n",
       "      <td>0</td>\n",
       "    </tr>\n",
       "    <tr>\n",
       "      <td>4</td>\n",
       "      <td>spring</td>\n",
       "      <td>0</td>\n",
       "      <td>Jan</td>\n",
       "      <td>0</td>\n",
       "      <td>Tuesday</td>\n",
       "      <td>1</td>\n",
       "      <td>Clear</td>\n",
       "      <td>9.305237</td>\n",
       "      <td>43.6957</td>\n",
       "      <td>12.522300</td>\n",
       "      <td>1600</td>\n",
       "      <td>1</td>\n",
       "      <td>0</td>\n",
       "      <td>0</td>\n",
       "    </tr>\n",
       "  </tbody>\n",
       "</table>\n",
       "</div>"
      ],
      "text/plain": [
       "   season  yr mnth  holiday   weekday  workingday     weathersit       temp  \\\n",
       "0  spring   0  Jan        0    Friday           0  Mist + Cloudy  14.110847   \n",
       "1  spring   0  Jan        0  Saturday           0  Mist + Cloudy  14.902598   \n",
       "2  spring   0  Jan        0    Sunday           1          Clear   8.050924   \n",
       "3  spring   0  Jan        0    Monday           1          Clear   8.200000   \n",
       "4  spring   0  Jan        0   Tuesday           1          Clear   9.305237   \n",
       "\n",
       "       hum  windspeed   cnt  spring  summer  winter  \n",
       "0  80.5833  10.749882   985       1       0       0  \n",
       "1  69.6087  16.652113   801       1       0       0  \n",
       "2  43.7273  16.636703  1349       1       0       0  \n",
       "3  59.0435  10.739832  1562       1       0       0  \n",
       "4  43.6957  12.522300  1600       1       0       0  "
      ]
     },
     "execution_count": 1458,
     "metadata": {},
     "output_type": "execute_result"
    }
   ],
   "source": [
    "# Creating dummy variables for Season\n",
    "season = pd.get_dummies(boombikes['season'],drop_first=True)\n",
    "\n",
    "#Adding dummy variables to the dataframe\n",
    "boombikes = pd.concat([boombikes, season], axis = 1)\n",
    "boombikes.head()"
   ]
  },
  {
   "cell_type": "markdown",
   "metadata": {},
   "source": [
    "Now here, we can interprete that : \n",
    "\n",
    "* `100` will correspond to `spring`\n",
    "* `010` will correspond to `summer`\n",
    "* `001` will correspond to `winter`\n",
    "* `000` will correspond to `fall`\n",
    "\n",
    "Likewise, we can do the dummification of `mnth`, `weekday` and `weathersit`"
   ]
  },
  {
   "cell_type": "code",
   "execution_count": 1459,
   "metadata": {},
   "outputs": [],
   "source": [
    "# Creating dummy variables for mnth\n",
    "month = pd.get_dummies(boombikes['mnth'],drop_first=True)\n",
    "\n",
    "#Adding dummy variables to the dataframe\n",
    "boombikes = pd.concat([boombikes, month], axis = 1)\n",
    "\n",
    "# Creating dummy variables for weekday\n",
    "weekday = pd.get_dummies(boombikes['weekday'],drop_first=True)\n",
    "\n",
    "#Adding dummy variables to the dataframe\n",
    "boombikes = pd.concat([boombikes, weekday], axis = 1)\n",
    "\n",
    "# Creating dummy variables for weathersit\n",
    "weathersit = pd.get_dummies(boombikes['weathersit'],drop_first=True)\n",
    "\n",
    "#Adding dummy variables to the dataframe\n",
    "boombikes = pd.concat([boombikes, weathersit], axis = 1)"
   ]
  },
  {
   "cell_type": "code",
   "execution_count": 1460,
   "metadata": {},
   "outputs": [
    {
     "data": {
      "text/html": [
       "<div>\n",
       "<style scoped>\n",
       "    .dataframe tbody tr th:only-of-type {\n",
       "        vertical-align: middle;\n",
       "    }\n",
       "\n",
       "    .dataframe tbody tr th {\n",
       "        vertical-align: top;\n",
       "    }\n",
       "\n",
       "    .dataframe thead th {\n",
       "        text-align: right;\n",
       "    }\n",
       "</style>\n",
       "<table border=\"1\" class=\"dataframe\">\n",
       "  <thead>\n",
       "    <tr style=\"text-align: right;\">\n",
       "      <th></th>\n",
       "      <th>yr</th>\n",
       "      <th>holiday</th>\n",
       "      <th>workingday</th>\n",
       "      <th>temp</th>\n",
       "      <th>hum</th>\n",
       "      <th>windspeed</th>\n",
       "      <th>cnt</th>\n",
       "      <th>spring</th>\n",
       "      <th>summer</th>\n",
       "      <th>winter</th>\n",
       "      <th>...</th>\n",
       "      <th>Oct</th>\n",
       "      <th>Sept</th>\n",
       "      <th>Monday</th>\n",
       "      <th>Saturday</th>\n",
       "      <th>Sunday</th>\n",
       "      <th>Thursday</th>\n",
       "      <th>Tuesday</th>\n",
       "      <th>Wednesday</th>\n",
       "      <th>Light Snow + Rain</th>\n",
       "      <th>Mist + Cloudy</th>\n",
       "    </tr>\n",
       "  </thead>\n",
       "  <tbody>\n",
       "    <tr>\n",
       "      <td>0</td>\n",
       "      <td>0</td>\n",
       "      <td>0</td>\n",
       "      <td>0</td>\n",
       "      <td>14.110847</td>\n",
       "      <td>80.5833</td>\n",
       "      <td>10.749882</td>\n",
       "      <td>985</td>\n",
       "      <td>1</td>\n",
       "      <td>0</td>\n",
       "      <td>0</td>\n",
       "      <td>...</td>\n",
       "      <td>0</td>\n",
       "      <td>0</td>\n",
       "      <td>0</td>\n",
       "      <td>0</td>\n",
       "      <td>0</td>\n",
       "      <td>0</td>\n",
       "      <td>0</td>\n",
       "      <td>0</td>\n",
       "      <td>0</td>\n",
       "      <td>1</td>\n",
       "    </tr>\n",
       "    <tr>\n",
       "      <td>1</td>\n",
       "      <td>0</td>\n",
       "      <td>0</td>\n",
       "      <td>0</td>\n",
       "      <td>14.902598</td>\n",
       "      <td>69.6087</td>\n",
       "      <td>16.652113</td>\n",
       "      <td>801</td>\n",
       "      <td>1</td>\n",
       "      <td>0</td>\n",
       "      <td>0</td>\n",
       "      <td>...</td>\n",
       "      <td>0</td>\n",
       "      <td>0</td>\n",
       "      <td>0</td>\n",
       "      <td>1</td>\n",
       "      <td>0</td>\n",
       "      <td>0</td>\n",
       "      <td>0</td>\n",
       "      <td>0</td>\n",
       "      <td>0</td>\n",
       "      <td>1</td>\n",
       "    </tr>\n",
       "    <tr>\n",
       "      <td>2</td>\n",
       "      <td>0</td>\n",
       "      <td>0</td>\n",
       "      <td>1</td>\n",
       "      <td>8.050924</td>\n",
       "      <td>43.7273</td>\n",
       "      <td>16.636703</td>\n",
       "      <td>1349</td>\n",
       "      <td>1</td>\n",
       "      <td>0</td>\n",
       "      <td>0</td>\n",
       "      <td>...</td>\n",
       "      <td>0</td>\n",
       "      <td>0</td>\n",
       "      <td>0</td>\n",
       "      <td>0</td>\n",
       "      <td>1</td>\n",
       "      <td>0</td>\n",
       "      <td>0</td>\n",
       "      <td>0</td>\n",
       "      <td>0</td>\n",
       "      <td>0</td>\n",
       "    </tr>\n",
       "    <tr>\n",
       "      <td>3</td>\n",
       "      <td>0</td>\n",
       "      <td>0</td>\n",
       "      <td>1</td>\n",
       "      <td>8.200000</td>\n",
       "      <td>59.0435</td>\n",
       "      <td>10.739832</td>\n",
       "      <td>1562</td>\n",
       "      <td>1</td>\n",
       "      <td>0</td>\n",
       "      <td>0</td>\n",
       "      <td>...</td>\n",
       "      <td>0</td>\n",
       "      <td>0</td>\n",
       "      <td>1</td>\n",
       "      <td>0</td>\n",
       "      <td>0</td>\n",
       "      <td>0</td>\n",
       "      <td>0</td>\n",
       "      <td>0</td>\n",
       "      <td>0</td>\n",
       "      <td>0</td>\n",
       "    </tr>\n",
       "    <tr>\n",
       "      <td>4</td>\n",
       "      <td>0</td>\n",
       "      <td>0</td>\n",
       "      <td>1</td>\n",
       "      <td>9.305237</td>\n",
       "      <td>43.6957</td>\n",
       "      <td>12.522300</td>\n",
       "      <td>1600</td>\n",
       "      <td>1</td>\n",
       "      <td>0</td>\n",
       "      <td>0</td>\n",
       "      <td>...</td>\n",
       "      <td>0</td>\n",
       "      <td>0</td>\n",
       "      <td>0</td>\n",
       "      <td>0</td>\n",
       "      <td>0</td>\n",
       "      <td>0</td>\n",
       "      <td>1</td>\n",
       "      <td>0</td>\n",
       "      <td>0</td>\n",
       "      <td>0</td>\n",
       "    </tr>\n",
       "  </tbody>\n",
       "</table>\n",
       "<p>5 rows × 29 columns</p>\n",
       "</div>"
      ],
      "text/plain": [
       "   yr  holiday  workingday       temp      hum  windspeed   cnt  spring  \\\n",
       "0   0        0           0  14.110847  80.5833  10.749882   985       1   \n",
       "1   0        0           0  14.902598  69.6087  16.652113   801       1   \n",
       "2   0        0           1   8.050924  43.7273  16.636703  1349       1   \n",
       "3   0        0           1   8.200000  59.0435  10.739832  1562       1   \n",
       "4   0        0           1   9.305237  43.6957  12.522300  1600       1   \n",
       "\n",
       "   summer  winter  ...  Oct  Sept  Monday  Saturday  Sunday  Thursday  \\\n",
       "0       0       0  ...    0     0       0         0       0         0   \n",
       "1       0       0  ...    0     0       0         1       0         0   \n",
       "2       0       0  ...    0     0       0         0       1         0   \n",
       "3       0       0  ...    0     0       1         0       0         0   \n",
       "4       0       0  ...    0     0       0         0       0         0   \n",
       "\n",
       "   Tuesday  Wednesday  Light Snow + Rain  Mist + Cloudy  \n",
       "0        0          0                  0              1  \n",
       "1        0          0                  0              1  \n",
       "2        0          0                  0              0  \n",
       "3        0          0                  0              0  \n",
       "4        1          0                  0              0  \n",
       "\n",
       "[5 rows x 29 columns]"
      ]
     },
     "execution_count": 1460,
     "metadata": {},
     "output_type": "execute_result"
    }
   ],
   "source": [
    "#We can now drop the columns season, mnth, weekday and weathersit\n",
    "\n",
    "columns = ['season', 'mnth', 'weekday', 'weathersit']\n",
    "\n",
    "boombikes.drop(columns,axis=1,inplace=True)\n",
    "boombikes.head()"
   ]
  },
  {
   "cell_type": "markdown",
   "metadata": {},
   "source": [
    "###### Splitting the data into Train and Test sets"
   ]
  },
  {
   "cell_type": "code",
   "execution_count": 1461,
   "metadata": {},
   "outputs": [],
   "source": [
    "# The first basic step for regression is performing a train-test split.\n",
    "# Import library sklearn for performing the steps in linear regression.\n",
    "\n",
    "from sklearn.model_selection import train_test_split\n",
    "\n",
    "# We specify seed, so that the train and test data set always have the same rows, respectively\n",
    "np.random.seed(0)\n",
    "\n",
    "df_train, df_test = train_test_split(boombikes, train_size = 0.7, test_size = 0.3, random_state = 100)"
   ]
  },
  {
   "cell_type": "markdown",
   "metadata": {},
   "source": [
    "###### Scaling the variables\n",
    "As it can be seen in the datframe, that the values of all the variables are not in same scale, so the coeffcients seems to vary alot for small scale and large scale variables.\n",
    "\n",
    "To overcome this, we scale the numeric columns of the dataframe\n",
    "We can use MinMax or Standardisation methods to scale the variables."
   ]
  },
  {
   "cell_type": "code",
   "execution_count": 1462,
   "metadata": {},
   "outputs": [],
   "source": [
    "from sklearn.preprocessing import MinMaxScaler #Library used for MinMax\n",
    "\n",
    "scaler = MinMaxScaler()\n",
    "\n",
    "# Apply scaler() to all the columns except the 'dummy' variables\n",
    "num_vars = ['yr', 'holiday', 'workingday', 'temp', 'hum','windspeed','cnt']\n",
    "\n",
    "df_train[num_vars] = scaler.fit_transform(df_train[num_vars])\n"
   ]
  },
  {
   "cell_type": "code",
   "execution_count": 1463,
   "metadata": {},
   "outputs": [
    {
     "data": {
      "text/html": [
       "<div>\n",
       "<style scoped>\n",
       "    .dataframe tbody tr th:only-of-type {\n",
       "        vertical-align: middle;\n",
       "    }\n",
       "\n",
       "    .dataframe tbody tr th {\n",
       "        vertical-align: top;\n",
       "    }\n",
       "\n",
       "    .dataframe thead th {\n",
       "        text-align: right;\n",
       "    }\n",
       "</style>\n",
       "<table border=\"1\" class=\"dataframe\">\n",
       "  <thead>\n",
       "    <tr style=\"text-align: right;\">\n",
       "      <th></th>\n",
       "      <th>yr</th>\n",
       "      <th>holiday</th>\n",
       "      <th>workingday</th>\n",
       "      <th>temp</th>\n",
       "      <th>hum</th>\n",
       "      <th>windspeed</th>\n",
       "      <th>cnt</th>\n",
       "      <th>spring</th>\n",
       "      <th>summer</th>\n",
       "      <th>winter</th>\n",
       "      <th>...</th>\n",
       "      <th>Oct</th>\n",
       "      <th>Sept</th>\n",
       "      <th>Monday</th>\n",
       "      <th>Saturday</th>\n",
       "      <th>Sunday</th>\n",
       "      <th>Thursday</th>\n",
       "      <th>Tuesday</th>\n",
       "      <th>Wednesday</th>\n",
       "      <th>Light Snow + Rain</th>\n",
       "      <th>Mist + Cloudy</th>\n",
       "    </tr>\n",
       "  </thead>\n",
       "  <tbody>\n",
       "    <tr>\n",
       "      <td>653</td>\n",
       "      <td>1.0</td>\n",
       "      <td>0.0</td>\n",
       "      <td>1.0</td>\n",
       "      <td>0.509887</td>\n",
       "      <td>0.575354</td>\n",
       "      <td>0.300794</td>\n",
       "      <td>0.864243</td>\n",
       "      <td>0</td>\n",
       "      <td>0</td>\n",
       "      <td>1</td>\n",
       "      <td>...</td>\n",
       "      <td>1</td>\n",
       "      <td>0</td>\n",
       "      <td>1</td>\n",
       "      <td>0</td>\n",
       "      <td>0</td>\n",
       "      <td>0</td>\n",
       "      <td>0</td>\n",
       "      <td>0</td>\n",
       "      <td>0</td>\n",
       "      <td>0</td>\n",
       "    </tr>\n",
       "    <tr>\n",
       "      <td>576</td>\n",
       "      <td>1.0</td>\n",
       "      <td>0.0</td>\n",
       "      <td>1.0</td>\n",
       "      <td>0.815169</td>\n",
       "      <td>0.725633</td>\n",
       "      <td>0.264686</td>\n",
       "      <td>0.827658</td>\n",
       "      <td>0</td>\n",
       "      <td>0</td>\n",
       "      <td>0</td>\n",
       "      <td>...</td>\n",
       "      <td>0</td>\n",
       "      <td>0</td>\n",
       "      <td>1</td>\n",
       "      <td>0</td>\n",
       "      <td>0</td>\n",
       "      <td>0</td>\n",
       "      <td>0</td>\n",
       "      <td>0</td>\n",
       "      <td>0</td>\n",
       "      <td>0</td>\n",
       "    </tr>\n",
       "    <tr>\n",
       "      <td>426</td>\n",
       "      <td>1.0</td>\n",
       "      <td>0.0</td>\n",
       "      <td>0.0</td>\n",
       "      <td>0.442393</td>\n",
       "      <td>0.640189</td>\n",
       "      <td>0.255342</td>\n",
       "      <td>0.465255</td>\n",
       "      <td>1</td>\n",
       "      <td>0</td>\n",
       "      <td>0</td>\n",
       "      <td>...</td>\n",
       "      <td>0</td>\n",
       "      <td>0</td>\n",
       "      <td>0</td>\n",
       "      <td>0</td>\n",
       "      <td>0</td>\n",
       "      <td>0</td>\n",
       "      <td>0</td>\n",
       "      <td>0</td>\n",
       "      <td>0</td>\n",
       "      <td>1</td>\n",
       "    </tr>\n",
       "    <tr>\n",
       "      <td>728</td>\n",
       "      <td>1.0</td>\n",
       "      <td>0.0</td>\n",
       "      <td>0.0</td>\n",
       "      <td>0.245101</td>\n",
       "      <td>0.498067</td>\n",
       "      <td>0.663106</td>\n",
       "      <td>0.204096</td>\n",
       "      <td>1</td>\n",
       "      <td>0</td>\n",
       "      <td>0</td>\n",
       "      <td>...</td>\n",
       "      <td>0</td>\n",
       "      <td>0</td>\n",
       "      <td>0</td>\n",
       "      <td>1</td>\n",
       "      <td>0</td>\n",
       "      <td>0</td>\n",
       "      <td>0</td>\n",
       "      <td>0</td>\n",
       "      <td>0</td>\n",
       "      <td>0</td>\n",
       "    </tr>\n",
       "    <tr>\n",
       "      <td>482</td>\n",
       "      <td>1.0</td>\n",
       "      <td>0.0</td>\n",
       "      <td>0.0</td>\n",
       "      <td>0.395666</td>\n",
       "      <td>0.504508</td>\n",
       "      <td>0.188475</td>\n",
       "      <td>0.482973</td>\n",
       "      <td>0</td>\n",
       "      <td>1</td>\n",
       "      <td>0</td>\n",
       "      <td>...</td>\n",
       "      <td>0</td>\n",
       "      <td>0</td>\n",
       "      <td>0</td>\n",
       "      <td>0</td>\n",
       "      <td>0</td>\n",
       "      <td>0</td>\n",
       "      <td>0</td>\n",
       "      <td>0</td>\n",
       "      <td>0</td>\n",
       "      <td>1</td>\n",
       "    </tr>\n",
       "  </tbody>\n",
       "</table>\n",
       "<p>5 rows × 29 columns</p>\n",
       "</div>"
      ],
      "text/plain": [
       "      yr  holiday  workingday      temp       hum  windspeed       cnt  \\\n",
       "653  1.0      0.0         1.0  0.509887  0.575354   0.300794  0.864243   \n",
       "576  1.0      0.0         1.0  0.815169  0.725633   0.264686  0.827658   \n",
       "426  1.0      0.0         0.0  0.442393  0.640189   0.255342  0.465255   \n",
       "728  1.0      0.0         0.0  0.245101  0.498067   0.663106  0.204096   \n",
       "482  1.0      0.0         0.0  0.395666  0.504508   0.188475  0.482973   \n",
       "\n",
       "     spring  summer  winter  ...  Oct  Sept  Monday  Saturday  Sunday  \\\n",
       "653       0       0       1  ...    1     0       1         0       0   \n",
       "576       0       0       0  ...    0     0       1         0       0   \n",
       "426       1       0       0  ...    0     0       0         0       0   \n",
       "728       1       0       0  ...    0     0       0         1       0   \n",
       "482       0       1       0  ...    0     0       0         0       0   \n",
       "\n",
       "     Thursday  Tuesday  Wednesday  Light Snow + Rain  Mist + Cloudy  \n",
       "653         0        0          0                  0              0  \n",
       "576         0        0          0                  0              0  \n",
       "426         0        0          0                  0              1  \n",
       "728         0        0          0                  0              0  \n",
       "482         0        0          0                  0              1  \n",
       "\n",
       "[5 rows x 29 columns]"
      ]
     },
     "execution_count": 1463,
     "metadata": {},
     "output_type": "execute_result"
    }
   ],
   "source": [
    "df_train.head()"
   ]
  },
  {
   "cell_type": "code",
   "execution_count": 1464,
   "metadata": {},
   "outputs": [
    {
     "data": {
      "text/html": [
       "<div>\n",
       "<style scoped>\n",
       "    .dataframe tbody tr th:only-of-type {\n",
       "        vertical-align: middle;\n",
       "    }\n",
       "\n",
       "    .dataframe tbody tr th {\n",
       "        vertical-align: top;\n",
       "    }\n",
       "\n",
       "    .dataframe thead th {\n",
       "        text-align: right;\n",
       "    }\n",
       "</style>\n",
       "<table border=\"1\" class=\"dataframe\">\n",
       "  <thead>\n",
       "    <tr style=\"text-align: right;\">\n",
       "      <th></th>\n",
       "      <th>yr</th>\n",
       "      <th>holiday</th>\n",
       "      <th>workingday</th>\n",
       "      <th>temp</th>\n",
       "      <th>hum</th>\n",
       "      <th>windspeed</th>\n",
       "      <th>cnt</th>\n",
       "      <th>spring</th>\n",
       "      <th>summer</th>\n",
       "      <th>winter</th>\n",
       "      <th>...</th>\n",
       "      <th>Oct</th>\n",
       "      <th>Sept</th>\n",
       "      <th>Monday</th>\n",
       "      <th>Saturday</th>\n",
       "      <th>Sunday</th>\n",
       "      <th>Thursday</th>\n",
       "      <th>Tuesday</th>\n",
       "      <th>Wednesday</th>\n",
       "      <th>Light Snow + Rain</th>\n",
       "      <th>Mist + Cloudy</th>\n",
       "    </tr>\n",
       "  </thead>\n",
       "  <tbody>\n",
       "    <tr>\n",
       "      <td>count</td>\n",
       "      <td>510.000000</td>\n",
       "      <td>510.000000</td>\n",
       "      <td>510.000000</td>\n",
       "      <td>510.000000</td>\n",
       "      <td>510.000000</td>\n",
       "      <td>510.000000</td>\n",
       "      <td>510.000000</td>\n",
       "      <td>510.000000</td>\n",
       "      <td>510.000000</td>\n",
       "      <td>510.00000</td>\n",
       "      <td>...</td>\n",
       "      <td>510.000000</td>\n",
       "      <td>510.000000</td>\n",
       "      <td>510.000000</td>\n",
       "      <td>510.000000</td>\n",
       "      <td>510.000000</td>\n",
       "      <td>510.000000</td>\n",
       "      <td>510.000000</td>\n",
       "      <td>510.000000</td>\n",
       "      <td>510.000000</td>\n",
       "      <td>510.000000</td>\n",
       "    </tr>\n",
       "    <tr>\n",
       "      <td>mean</td>\n",
       "      <td>0.507843</td>\n",
       "      <td>0.025490</td>\n",
       "      <td>0.676471</td>\n",
       "      <td>0.537262</td>\n",
       "      <td>0.650369</td>\n",
       "      <td>0.320768</td>\n",
       "      <td>0.513620</td>\n",
       "      <td>0.243137</td>\n",
       "      <td>0.245098</td>\n",
       "      <td>0.24902</td>\n",
       "      <td>...</td>\n",
       "      <td>0.086275</td>\n",
       "      <td>0.080392</td>\n",
       "      <td>0.131373</td>\n",
       "      <td>0.143137</td>\n",
       "      <td>0.150980</td>\n",
       "      <td>0.127451</td>\n",
       "      <td>0.158824</td>\n",
       "      <td>0.133333</td>\n",
       "      <td>0.029412</td>\n",
       "      <td>0.343137</td>\n",
       "    </tr>\n",
       "    <tr>\n",
       "      <td>std</td>\n",
       "      <td>0.500429</td>\n",
       "      <td>0.157763</td>\n",
       "      <td>0.468282</td>\n",
       "      <td>0.225844</td>\n",
       "      <td>0.145882</td>\n",
       "      <td>0.169797</td>\n",
       "      <td>0.224593</td>\n",
       "      <td>0.429398</td>\n",
       "      <td>0.430568</td>\n",
       "      <td>0.43287</td>\n",
       "      <td>...</td>\n",
       "      <td>0.281045</td>\n",
       "      <td>0.272166</td>\n",
       "      <td>0.338139</td>\n",
       "      <td>0.350557</td>\n",
       "      <td>0.358381</td>\n",
       "      <td>0.333805</td>\n",
       "      <td>0.365870</td>\n",
       "      <td>0.340268</td>\n",
       "      <td>0.169124</td>\n",
       "      <td>0.475223</td>\n",
       "    </tr>\n",
       "    <tr>\n",
       "      <td>min</td>\n",
       "      <td>0.000000</td>\n",
       "      <td>0.000000</td>\n",
       "      <td>0.000000</td>\n",
       "      <td>0.000000</td>\n",
       "      <td>0.000000</td>\n",
       "      <td>0.000000</td>\n",
       "      <td>0.000000</td>\n",
       "      <td>0.000000</td>\n",
       "      <td>0.000000</td>\n",
       "      <td>0.00000</td>\n",
       "      <td>...</td>\n",
       "      <td>0.000000</td>\n",
       "      <td>0.000000</td>\n",
       "      <td>0.000000</td>\n",
       "      <td>0.000000</td>\n",
       "      <td>0.000000</td>\n",
       "      <td>0.000000</td>\n",
       "      <td>0.000000</td>\n",
       "      <td>0.000000</td>\n",
       "      <td>0.000000</td>\n",
       "      <td>0.000000</td>\n",
       "    </tr>\n",
       "    <tr>\n",
       "      <td>25%</td>\n",
       "      <td>0.000000</td>\n",
       "      <td>0.000000</td>\n",
       "      <td>0.000000</td>\n",
       "      <td>0.339853</td>\n",
       "      <td>0.538643</td>\n",
       "      <td>0.199179</td>\n",
       "      <td>0.356420</td>\n",
       "      <td>0.000000</td>\n",
       "      <td>0.000000</td>\n",
       "      <td>0.00000</td>\n",
       "      <td>...</td>\n",
       "      <td>0.000000</td>\n",
       "      <td>0.000000</td>\n",
       "      <td>0.000000</td>\n",
       "      <td>0.000000</td>\n",
       "      <td>0.000000</td>\n",
       "      <td>0.000000</td>\n",
       "      <td>0.000000</td>\n",
       "      <td>0.000000</td>\n",
       "      <td>0.000000</td>\n",
       "      <td>0.000000</td>\n",
       "    </tr>\n",
       "    <tr>\n",
       "      <td>50%</td>\n",
       "      <td>1.000000</td>\n",
       "      <td>0.000000</td>\n",
       "      <td>1.000000</td>\n",
       "      <td>0.540519</td>\n",
       "      <td>0.653714</td>\n",
       "      <td>0.296763</td>\n",
       "      <td>0.518638</td>\n",
       "      <td>0.000000</td>\n",
       "      <td>0.000000</td>\n",
       "      <td>0.00000</td>\n",
       "      <td>...</td>\n",
       "      <td>0.000000</td>\n",
       "      <td>0.000000</td>\n",
       "      <td>0.000000</td>\n",
       "      <td>0.000000</td>\n",
       "      <td>0.000000</td>\n",
       "      <td>0.000000</td>\n",
       "      <td>0.000000</td>\n",
       "      <td>0.000000</td>\n",
       "      <td>0.000000</td>\n",
       "      <td>0.000000</td>\n",
       "    </tr>\n",
       "    <tr>\n",
       "      <td>75%</td>\n",
       "      <td>1.000000</td>\n",
       "      <td>0.000000</td>\n",
       "      <td>1.000000</td>\n",
       "      <td>0.735215</td>\n",
       "      <td>0.754830</td>\n",
       "      <td>0.414447</td>\n",
       "      <td>0.684710</td>\n",
       "      <td>0.000000</td>\n",
       "      <td>0.000000</td>\n",
       "      <td>0.00000</td>\n",
       "      <td>...</td>\n",
       "      <td>0.000000</td>\n",
       "      <td>0.000000</td>\n",
       "      <td>0.000000</td>\n",
       "      <td>0.000000</td>\n",
       "      <td>0.000000</td>\n",
       "      <td>0.000000</td>\n",
       "      <td>0.000000</td>\n",
       "      <td>0.000000</td>\n",
       "      <td>0.000000</td>\n",
       "      <td>1.000000</td>\n",
       "    </tr>\n",
       "    <tr>\n",
       "      <td>max</td>\n",
       "      <td>1.000000</td>\n",
       "      <td>1.000000</td>\n",
       "      <td>1.000000</td>\n",
       "      <td>1.000000</td>\n",
       "      <td>1.000000</td>\n",
       "      <td>1.000000</td>\n",
       "      <td>1.000000</td>\n",
       "      <td>1.000000</td>\n",
       "      <td>1.000000</td>\n",
       "      <td>1.00000</td>\n",
       "      <td>...</td>\n",
       "      <td>1.000000</td>\n",
       "      <td>1.000000</td>\n",
       "      <td>1.000000</td>\n",
       "      <td>1.000000</td>\n",
       "      <td>1.000000</td>\n",
       "      <td>1.000000</td>\n",
       "      <td>1.000000</td>\n",
       "      <td>1.000000</td>\n",
       "      <td>1.000000</td>\n",
       "      <td>1.000000</td>\n",
       "    </tr>\n",
       "  </tbody>\n",
       "</table>\n",
       "<p>8 rows × 29 columns</p>\n",
       "</div>"
      ],
      "text/plain": [
       "               yr     holiday  workingday        temp         hum   windspeed  \\\n",
       "count  510.000000  510.000000  510.000000  510.000000  510.000000  510.000000   \n",
       "mean     0.507843    0.025490    0.676471    0.537262    0.650369    0.320768   \n",
       "std      0.500429    0.157763    0.468282    0.225844    0.145882    0.169797   \n",
       "min      0.000000    0.000000    0.000000    0.000000    0.000000    0.000000   \n",
       "25%      0.000000    0.000000    0.000000    0.339853    0.538643    0.199179   \n",
       "50%      1.000000    0.000000    1.000000    0.540519    0.653714    0.296763   \n",
       "75%      1.000000    0.000000    1.000000    0.735215    0.754830    0.414447   \n",
       "max      1.000000    1.000000    1.000000    1.000000    1.000000    1.000000   \n",
       "\n",
       "              cnt      spring      summer     winter  ...         Oct  \\\n",
       "count  510.000000  510.000000  510.000000  510.00000  ...  510.000000   \n",
       "mean     0.513620    0.243137    0.245098    0.24902  ...    0.086275   \n",
       "std      0.224593    0.429398    0.430568    0.43287  ...    0.281045   \n",
       "min      0.000000    0.000000    0.000000    0.00000  ...    0.000000   \n",
       "25%      0.356420    0.000000    0.000000    0.00000  ...    0.000000   \n",
       "50%      0.518638    0.000000    0.000000    0.00000  ...    0.000000   \n",
       "75%      0.684710    0.000000    0.000000    0.00000  ...    0.000000   \n",
       "max      1.000000    1.000000    1.000000    1.00000  ...    1.000000   \n",
       "\n",
       "             Sept      Monday    Saturday      Sunday    Thursday     Tuesday  \\\n",
       "count  510.000000  510.000000  510.000000  510.000000  510.000000  510.000000   \n",
       "mean     0.080392    0.131373    0.143137    0.150980    0.127451    0.158824   \n",
       "std      0.272166    0.338139    0.350557    0.358381    0.333805    0.365870   \n",
       "min      0.000000    0.000000    0.000000    0.000000    0.000000    0.000000   \n",
       "25%      0.000000    0.000000    0.000000    0.000000    0.000000    0.000000   \n",
       "50%      0.000000    0.000000    0.000000    0.000000    0.000000    0.000000   \n",
       "75%      0.000000    0.000000    0.000000    0.000000    0.000000    0.000000   \n",
       "max      1.000000    1.000000    1.000000    1.000000    1.000000    1.000000   \n",
       "\n",
       "        Wednesday  Light Snow + Rain  Mist + Cloudy  \n",
       "count  510.000000         510.000000     510.000000  \n",
       "mean     0.133333           0.029412       0.343137  \n",
       "std      0.340268           0.169124       0.475223  \n",
       "min      0.000000           0.000000       0.000000  \n",
       "25%      0.000000           0.000000       0.000000  \n",
       "50%      0.000000           0.000000       0.000000  \n",
       "75%      0.000000           0.000000       1.000000  \n",
       "max      1.000000           1.000000       1.000000  \n",
       "\n",
       "[8 rows x 29 columns]"
      ]
     },
     "execution_count": 1464,
     "metadata": {},
     "output_type": "execute_result"
    }
   ],
   "source": [
    "df_train.describe() #To check the statistical operations on numeric variables of the train set"
   ]
  },
  {
   "cell_type": "markdown",
   "metadata": {},
   "source": [
    "###### Dividing into X and Y sets for the model building"
   ]
  },
  {
   "cell_type": "code",
   "execution_count": 1465,
   "metadata": {},
   "outputs": [],
   "source": [
    "y_train = df_train.pop('cnt')\n",
    "X_train = df_train"
   ]
  },
  {
   "cell_type": "markdown",
   "metadata": {},
   "source": [
    "### Data Modelling\n",
    "\n",
    "Here we will use `RFE(Recursive Feature Elimination)` approach to first identify the top 15 variables and then drill down using statsmodel to come to final set of variables."
   ]
  },
  {
   "cell_type": "code",
   "execution_count": 1466,
   "metadata": {},
   "outputs": [],
   "source": [
    "# Importing RFE and LinearRegression\n",
    "from sklearn.feature_selection import RFE\n",
    "from sklearn.linear_model import LinearRegression"
   ]
  },
  {
   "cell_type": "code",
   "execution_count": 1467,
   "metadata": {},
   "outputs": [],
   "source": [
    "# Running RFE with the output number of the variable equal to 10\n",
    "lm = LinearRegression()\n",
    "lm.fit(X_train, y_train) # Fisrt fit all the collumns into the model\n",
    "\n",
    "rfe = RFE(lm, 15)             # running RFE by passing the model with the number of variables requirred.\n",
    "rfe = rfe.fit(X_train, y_train)"
   ]
  },
  {
   "cell_type": "code",
   "execution_count": 1468,
   "metadata": {},
   "outputs": [
    {
     "data": {
      "text/plain": [
       "[('yr', True, 1),\n",
       " ('holiday', True, 1),\n",
       " ('workingday', False, 9),\n",
       " ('temp', True, 1),\n",
       " ('hum', True, 1),\n",
       " ('windspeed', True, 1),\n",
       " ('spring', True, 1),\n",
       " ('summer', True, 1),\n",
       " ('winter', True, 1),\n",
       " ('Aug', False, 13),\n",
       " ('Dec', False, 2),\n",
       " ('Feb', False, 3),\n",
       " ('Jan', True, 1),\n",
       " ('July', True, 1),\n",
       " ('June', False, 12),\n",
       " ('Mar', False, 14),\n",
       " ('May', False, 4),\n",
       " ('Nov', True, 1),\n",
       " ('Oct', False, 11),\n",
       " ('Sept', True, 1),\n",
       " ('Monday', False, 6),\n",
       " ('Saturday', True, 1),\n",
       " ('Sunday', False, 5),\n",
       " ('Thursday', False, 10),\n",
       " ('Tuesday', False, 8),\n",
       " ('Wednesday', False, 7),\n",
       " ('Light Snow + Rain', True, 1),\n",
       " ('Mist + Cloudy', True, 1)]"
      ]
     },
     "execution_count": 1468,
     "metadata": {},
     "output_type": "execute_result"
    }
   ],
   "source": [
    "list(zip(X_train.columns,rfe.support_,rfe.ranking_)) # To check the columns which RFE has selected"
   ]
  },
  {
   "cell_type": "markdown",
   "metadata": {},
   "source": [
    "Here, the columns with rfe ranking as 1 are the ones which RFE has selected as top 15 and rest of the ranking increases as the correlation of that variable to target variable decreases."
   ]
  },
  {
   "cell_type": "code",
   "execution_count": 1469,
   "metadata": {},
   "outputs": [
    {
     "data": {
      "text/plain": [
       "Index(['yr', 'holiday', 'temp', 'hum', 'windspeed', 'spring', 'summer',\n",
       "       'winter', 'Jan', 'July', 'Nov', 'Sept', 'Saturday', 'Light Snow + Rain',\n",
       "       'Mist + Cloudy'],\n",
       "      dtype='object')"
      ]
     },
     "execution_count": 1469,
     "metadata": {},
     "output_type": "execute_result"
    }
   ],
   "source": [
    "col = X_train.columns[rfe.support_] # The column ssupported by RFE\n",
    "col"
   ]
  },
  {
   "cell_type": "code",
   "execution_count": 1470,
   "metadata": {},
   "outputs": [
    {
     "data": {
      "text/plain": [
       "Index(['workingday', 'Aug', 'Dec', 'Feb', 'June', 'Mar', 'May', 'Oct',\n",
       "       'Monday', 'Sunday', 'Thursday', 'Tuesday', 'Wednesday'],\n",
       "      dtype='object')"
      ]
     },
     "execution_count": 1470,
     "metadata": {},
     "output_type": "execute_result"
    }
   ],
   "source": [
    "# The columns not selected by RFE\n",
    "X_train.columns[~rfe.support_]"
   ]
  },
  {
   "cell_type": "markdown",
   "metadata": {},
   "source": [
    "###### Building model using statsmodel, for the detailed statistics"
   ]
  },
  {
   "cell_type": "code",
   "execution_count": 1471,
   "metadata": {},
   "outputs": [],
   "source": [
    "# Creating X_train dataframe with RFE selected variables (Filtering out the rest of the columns)\n",
    "X_train_rfe = X_train[col]"
   ]
  },
  {
   "cell_type": "code",
   "execution_count": 1472,
   "metadata": {},
   "outputs": [],
   "source": [
    "# Adding a constant variable \n",
    "import statsmodels.api as sm  \n",
    "X_train_rfe = sm.add_constant(X_train_rfe)"
   ]
  },
  {
   "cell_type": "markdown",
   "metadata": {},
   "source": [
    "###### Model 1"
   ]
  },
  {
   "cell_type": "code",
   "execution_count": 1473,
   "metadata": {},
   "outputs": [],
   "source": [
    "lm1 = sm.OLS(y_train,X_train_rfe).fit()   # Running the linear model - lm1"
   ]
  },
  {
   "cell_type": "code",
   "execution_count": 1474,
   "metadata": {},
   "outputs": [
    {
     "name": "stdout",
     "output_type": "stream",
     "text": [
      "                            OLS Regression Results                            \n",
      "==============================================================================\n",
      "Dep. Variable:                    cnt   R-squared:                       0.849\n",
      "Model:                            OLS   Adj. R-squared:                  0.844\n",
      "Method:                 Least Squares   F-statistic:                     185.2\n",
      "Date:                Mon, 27 Jul 2020   Prob (F-statistic):          1.16e-191\n",
      "Time:                        19:31:54   Log-Likelihood:                 520.59\n",
      "No. Observations:                 510   AIC:                            -1009.\n",
      "Df Residuals:                     494   BIC:                            -941.4\n",
      "Df Model:                          15                                         \n",
      "Covariance Type:            nonrobust                                         \n",
      "=====================================================================================\n",
      "                        coef    std err          t      P>|t|      [0.025      0.975]\n",
      "-------------------------------------------------------------------------------------\n",
      "const                 0.3045      0.035      8.771      0.000       0.236       0.373\n",
      "yr                    0.2303      0.008     28.838      0.000       0.215       0.246\n",
      "holiday              -0.0994      0.025     -3.922      0.000      -0.149      -0.050\n",
      "temp                  0.5020      0.035     14.489      0.000       0.434       0.570\n",
      "hum                  -0.1577      0.037     -4.231      0.000      -0.231      -0.084\n",
      "windspeed            -0.1834      0.025     -7.209      0.000      -0.233      -0.133\n",
      "spring               -0.0554      0.021     -2.656      0.008      -0.096      -0.014\n",
      "summer                0.0471      0.015      3.161      0.002       0.018       0.076\n",
      "winter                0.1003      0.018      5.697      0.000       0.066       0.135\n",
      "Jan                  -0.0350      0.017     -2.020      0.044      -0.069      -0.001\n",
      "July                 -0.0532      0.018     -2.951      0.003      -0.089      -0.018\n",
      "Nov                  -0.0254      0.017     -1.493      0.136      -0.059       0.008\n",
      "Sept                  0.0786      0.017      4.755      0.000       0.046       0.111\n",
      "Saturday             -0.0455      0.011     -4.019      0.000      -0.068      -0.023\n",
      "Light Snow + Rain    -0.2496      0.026     -9.603      0.000      -0.301      -0.199\n",
      "Mist + Cloudy        -0.0578      0.010     -5.582      0.000      -0.078      -0.037\n",
      "==============================================================================\n",
      "Omnibus:                       64.821   Durbin-Watson:                   2.060\n",
      "Prob(Omnibus):                  0.000   Jarque-Bera (JB):              166.059\n",
      "Skew:                          -0.644   Prob(JB):                     8.73e-37\n",
      "Kurtosis:                       5.481   Cond. No.                         20.1\n",
      "==============================================================================\n",
      "\n",
      "Warnings:\n",
      "[1] Standard Errors assume that the covariance matrix of the errors is correctly specified.\n"
     ]
    }
   ],
   "source": [
    "#Let's see the summary of our linear model\n",
    "print(lm1.summary())"
   ]
  },
  {
   "cell_type": "markdown",
   "metadata": {},
   "source": [
    "`Nov` is insignificant in presence of other variables as the p-value of the varibale is very high; can be dropped"
   ]
  },
  {
   "cell_type": "code",
   "execution_count": 1475,
   "metadata": {},
   "outputs": [],
   "source": [
    "X_train_new = X_train_rfe.drop([\"Nov\"], axis = 1) #dropping the Nov variable"
   ]
  },
  {
   "cell_type": "code",
   "execution_count": 1476,
   "metadata": {},
   "outputs": [],
   "source": [
    "#Rebuilding the model after removing \"Nov\" variable\n",
    "\n",
    "# Adding a constant variable \n",
    "import statsmodels.api as sm  \n",
    "X_train_lm = sm.add_constant(X_train_new)\n",
    "\n",
    "lm1 = sm.OLS(y_train,X_train_lm).fit()   # Running the linear model - lm1"
   ]
  },
  {
   "cell_type": "code",
   "execution_count": 1477,
   "metadata": {},
   "outputs": [
    {
     "name": "stdout",
     "output_type": "stream",
     "text": [
      "                            OLS Regression Results                            \n",
      "==============================================================================\n",
      "Dep. Variable:                    cnt   R-squared:                       0.848\n",
      "Model:                            OLS   Adj. R-squared:                  0.844\n",
      "Method:                 Least Squares   F-statistic:                     197.8\n",
      "Date:                Mon, 27 Jul 2020   Prob (F-statistic):          2.45e-192\n",
      "Time:                        19:31:57   Log-Likelihood:                 519.45\n",
      "No. Observations:                 510   AIC:                            -1009.\n",
      "Df Residuals:                     495   BIC:                            -945.4\n",
      "Df Model:                          14                                         \n",
      "Covariance Type:            nonrobust                                         \n",
      "=====================================================================================\n",
      "                        coef    std err          t      P>|t|      [0.025      0.975]\n",
      "-------------------------------------------------------------------------------------\n",
      "const                 0.2972      0.034      8.635      0.000       0.230       0.365\n",
      "yr                    0.2302      0.008     28.797      0.000       0.215       0.246\n",
      "holiday              -0.1041      0.025     -4.131      0.000      -0.154      -0.055\n",
      "temp                  0.5095      0.034     14.844      0.000       0.442       0.577\n",
      "hum                  -0.1560      0.037     -4.183      0.000      -0.229      -0.083\n",
      "windspeed            -0.1851      0.025     -7.275      0.000      -0.235      -0.135\n",
      "spring               -0.0508      0.021     -2.459      0.014      -0.091      -0.010\n",
      "summer                0.0496      0.015      3.343      0.001       0.020       0.079\n",
      "winter                0.0947      0.017      5.499      0.000       0.061       0.129\n",
      "Jan                  -0.0342      0.017     -1.971      0.049      -0.068      -0.000\n",
      "July                 -0.0529      0.018     -2.932      0.004      -0.088      -0.017\n",
      "Sept                  0.0813      0.016      4.943      0.000       0.049       0.114\n",
      "Saturday             -0.0454      0.011     -4.012      0.000      -0.068      -0.023\n",
      "Light Snow + Rain    -0.2484      0.026     -9.548      0.000      -0.299      -0.197\n",
      "Mist + Cloudy        -0.0576      0.010     -5.557      0.000      -0.078      -0.037\n",
      "==============================================================================\n",
      "Omnibus:                       62.735   Durbin-Watson:                   2.070\n",
      "Prob(Omnibus):                  0.000   Jarque-Bera (JB):              157.816\n",
      "Skew:                          -0.630   Prob(JB):                     5.38e-35\n",
      "Kurtosis:                       5.416   Cond. No.                         19.8\n",
      "==============================================================================\n",
      "\n",
      "Warnings:\n",
      "[1] Standard Errors assume that the covariance matrix of the errors is correctly specified.\n"
     ]
    }
   ],
   "source": [
    "#Let's see the summary of our linear model\n",
    "print(lm1.summary())"
   ]
  },
  {
   "cell_type": "markdown",
   "metadata": {},
   "source": [
    "Here, from the summary we can see that the `R-squared` is dropped from 0.849 to 0.848 which is not that much of a drop and `Adjusted R-squared` has remained same even after removing `\"Nov\"` variable. Also, we can see that the F-statistic of the model has improved.\n",
    "\n",
    "We can also see from the summary that the p-value for `Jan` is 0.05, We can remove this variable and see how it affects the model as any variable with p-value less than 0.05 is considered."
   ]
  },
  {
   "cell_type": "code",
   "execution_count": 1478,
   "metadata": {},
   "outputs": [],
   "source": [
    "X_train_new = X_train_new.drop(['Jan'], axis=1)"
   ]
  },
  {
   "cell_type": "code",
   "execution_count": 1479,
   "metadata": {},
   "outputs": [
    {
     "name": "stdout",
     "output_type": "stream",
     "text": [
      "                            OLS Regression Results                            \n",
      "==============================================================================\n",
      "Dep. Variable:                    cnt   R-squared:                       0.847\n",
      "Model:                            OLS   Adj. R-squared:                  0.843\n",
      "Method:                 Least Squares   F-statistic:                     211.4\n",
      "Date:                Mon, 27 Jul 2020   Prob (F-statistic):          1.13e-192\n",
      "Time:                        19:32:00   Log-Likelihood:                 517.45\n",
      "No. Observations:                 510   AIC:                            -1007.\n",
      "Df Residuals:                     496   BIC:                            -947.6\n",
      "Df Model:                          13                                         \n",
      "Covariance Type:            nonrobust                                         \n",
      "=====================================================================================\n",
      "                        coef    std err          t      P>|t|      [0.025      0.975]\n",
      "-------------------------------------------------------------------------------------\n",
      "const                 0.2852      0.034      8.395      0.000       0.218       0.352\n",
      "yr                    0.2295      0.008     28.652      0.000       0.214       0.245\n",
      "holiday              -0.1046      0.025     -4.141      0.000      -0.154      -0.055\n",
      "temp                  0.5274      0.033     15.888      0.000       0.462       0.593\n",
      "hum                  -0.1607      0.037     -4.305      0.000      -0.234      -0.087\n",
      "windspeed            -0.1798      0.025     -7.085      0.000      -0.230      -0.130\n",
      "spring               -0.0554      0.021     -2.692      0.007      -0.096      -0.015\n",
      "summer                0.0526      0.015      3.549      0.000       0.023       0.082\n",
      "winter                0.1006      0.017      5.908      0.000       0.067       0.134\n",
      "July                 -0.0546      0.018     -3.020      0.003      -0.090      -0.019\n",
      "Sept                  0.0819      0.016      4.964      0.000       0.049       0.114\n",
      "Saturday             -0.0451      0.011     -3.970      0.000      -0.067      -0.023\n",
      "Light Snow + Rain    -0.2460      0.026     -9.438      0.000      -0.297      -0.195\n",
      "Mist + Cloudy        -0.0577      0.010     -5.544      0.000      -0.078      -0.037\n",
      "==============================================================================\n",
      "Omnibus:                       61.439   Durbin-Watson:                   2.065\n",
      "Prob(Omnibus):                  0.000   Jarque-Bera (JB):              155.341\n",
      "Skew:                          -0.616   Prob(JB):                     1.85e-34\n",
      "Kurtosis:                       5.407   Cond. No.                         19.5\n",
      "==============================================================================\n",
      "\n",
      "Warnings:\n",
      "[1] Standard Errors assume that the covariance matrix of the errors is correctly specified.\n"
     ]
    }
   ],
   "source": [
    "#Rebuilding the model after removing \"Jan\" variable\n",
    "\n",
    "# Adding a constant variable \n",
    "import statsmodels.api as sm  \n",
    "X_train_lm = sm.add_constant(X_train_new) #for model lm1\n",
    "\n",
    "lm1 = sm.OLS(y_train,X_train_lm).fit()   # Running the linear model for lm1\n",
    "\n",
    "#Let's see the summary of our linear model\n",
    "print(lm1.summary())"
   ]
  },
  {
   "cell_type": "markdown",
   "metadata": {},
   "source": [
    "From the above summary, we can see that the p-value for `spring` and `July` variables are higher than that of the other variables. However, it is not of a concern, but we can form a new model after dropping these variables as our aim is also to keep variable count<= 10 for a better model along with finding a best fit line.\n",
    "\n",
    "Hence we will drop `spring` and `july` one by one and form a new model and check the variance in the `R-squared` and `Adjusted R-squared`"
   ]
  },
  {
   "cell_type": "markdown",
   "metadata": {},
   "source": [
    "###### Model 2"
   ]
  },
  {
   "cell_type": "code",
   "execution_count": 1480,
   "metadata": {},
   "outputs": [],
   "source": [
    "# Dropping Spring first\n",
    "X_train_new1 = X_train_new.drop(['spring'], axis=1)"
   ]
  },
  {
   "cell_type": "code",
   "execution_count": 1481,
   "metadata": {},
   "outputs": [
    {
     "name": "stdout",
     "output_type": "stream",
     "text": [
      "                            OLS Regression Results                            \n",
      "==============================================================================\n",
      "Dep. Variable:                    cnt   R-squared:                       0.845\n",
      "Model:                            OLS   Adj. R-squared:                  0.841\n",
      "Method:                 Least Squares   F-statistic:                     225.6\n",
      "Date:                Mon, 27 Jul 2020   Prob (F-statistic):          2.66e-192\n",
      "Time:                        19:32:03   Log-Likelihood:                 513.75\n",
      "No. Observations:                 510   AIC:                            -1002.\n",
      "Df Residuals:                     497   BIC:                            -946.5\n",
      "Df Model:                          12                                         \n",
      "Covariance Type:            nonrobust                                         \n",
      "=====================================================================================\n",
      "                        coef    std err          t      P>|t|      [0.025      0.975]\n",
      "-------------------------------------------------------------------------------------\n",
      "const                 0.2277      0.027      8.565      0.000       0.175       0.280\n",
      "yr                    0.2281      0.008     28.361      0.000       0.212       0.244\n",
      "holiday              -0.1067      0.025     -4.198      0.000      -0.157      -0.057\n",
      "temp                  0.5940      0.022     26.705      0.000       0.550       0.638\n",
      "hum                  -0.1720      0.037     -4.608      0.000      -0.245      -0.099\n",
      "windspeed            -0.1870      0.025     -7.361      0.000      -0.237      -0.137\n",
      "summer                0.0805      0.011      7.583      0.000       0.060       0.101\n",
      "winter                0.1370      0.010     13.175      0.000       0.117       0.157\n",
      "July                 -0.0453      0.018     -2.537      0.011      -0.080      -0.010\n",
      "Sept                  0.0946      0.016      5.946      0.000       0.063       0.126\n",
      "Saturday             -0.0454      0.011     -3.974      0.000      -0.068      -0.023\n",
      "Light Snow + Rain    -0.2410      0.026     -9.213      0.000      -0.292      -0.190\n",
      "Mist + Cloudy        -0.0553      0.010     -5.299      0.000      -0.076      -0.035\n",
      "==============================================================================\n",
      "Omnibus:                       56.041   Durbin-Watson:                   2.082\n",
      "Prob(Omnibus):                  0.000   Jarque-Bera (JB):              125.149\n",
      "Skew:                          -0.602   Prob(JB):                     6.67e-28\n",
      "Kurtosis:                       5.107   Cond. No.                         18.5\n",
      "==============================================================================\n",
      "\n",
      "Warnings:\n",
      "[1] Standard Errors assume that the covariance matrix of the errors is correctly specified.\n"
     ]
    }
   ],
   "source": [
    "#Rebuilding the model after removing \"spring\" variable\n",
    "\n",
    "# Adding a constant variable \n",
    "import statsmodels.api as sm  \n",
    "X_train_lm1 = sm.add_constant(X_train_new1) \n",
    "\n",
    "lm2 = sm.OLS(y_train,X_train_lm1).fit()   # Running the linear model for lm2\n",
    "\n",
    "#Let's see the summary of our linear model\n",
    "print(lm2.summary())"
   ]
  },
  {
   "cell_type": "markdown",
   "metadata": {},
   "source": [
    "The difference between the `R-squared ` and `Adjusted R-squared` remains same."
   ]
  },
  {
   "cell_type": "code",
   "execution_count": 1482,
   "metadata": {},
   "outputs": [],
   "source": [
    "# Dropping July variable\n",
    "X_train_new1 = X_train_new1.drop(['July'], axis=1)"
   ]
  },
  {
   "cell_type": "code",
   "execution_count": 1483,
   "metadata": {},
   "outputs": [
    {
     "name": "stdout",
     "output_type": "stream",
     "text": [
      "                            OLS Regression Results                            \n",
      "==============================================================================\n",
      "Dep. Variable:                    cnt   R-squared:                       0.843\n",
      "Model:                            OLS   Adj. R-squared:                  0.839\n",
      "Method:                 Least Squares   F-statistic:                     242.9\n",
      "Date:                Mon, 27 Jul 2020   Prob (F-statistic):          4.02e-192\n",
      "Time:                        19:32:05   Log-Likelihood:                 510.47\n",
      "No. Observations:                 510   AIC:                            -996.9\n",
      "Df Residuals:                     498   BIC:                            -946.1\n",
      "Df Model:                          11                                         \n",
      "Covariance Type:            nonrobust                                         \n",
      "=====================================================================================\n",
      "                        coef    std err          t      P>|t|      [0.025      0.975]\n",
      "-------------------------------------------------------------------------------------\n",
      "const                 0.2277      0.027      8.517      0.000       0.175       0.280\n",
      "yr                    0.2290      0.008     28.350      0.000       0.213       0.245\n",
      "holiday              -0.1055      0.026     -4.129      0.000      -0.156      -0.055\n",
      "temp                  0.5684      0.020     28.520      0.000       0.529       0.608\n",
      "hum                  -0.1637      0.037     -4.378      0.000      -0.237      -0.090\n",
      "windspeed            -0.1846      0.026     -7.232      0.000      -0.235      -0.134\n",
      "summer                0.0891      0.010      8.815      0.000       0.069       0.109\n",
      "winter                0.1412      0.010     13.687      0.000       0.121       0.161\n",
      "Sept                  0.1047      0.015      6.762      0.000       0.074       0.135\n",
      "Saturday             -0.0466      0.011     -4.057      0.000      -0.069      -0.024\n",
      "Light Snow + Rain    -0.2445      0.026     -9.310      0.000      -0.296      -0.193\n",
      "Mist + Cloudy        -0.0555      0.010     -5.291      0.000      -0.076      -0.035\n",
      "==============================================================================\n",
      "Omnibus:                       63.739   Durbin-Watson:                   2.110\n",
      "Prob(Omnibus):                  0.000   Jarque-Bera (JB):              143.130\n",
      "Skew:                          -0.677   Prob(JB):                     8.31e-32\n",
      "Kurtosis:                       5.214   Cond. No.                         18.4\n",
      "==============================================================================\n",
      "\n",
      "Warnings:\n",
      "[1] Standard Errors assume that the covariance matrix of the errors is correctly specified.\n"
     ]
    }
   ],
   "source": [
    "#Rebuilding the model after removing \"July\" variable\n",
    "\n",
    "# Adding a constant variable \n",
    "import statsmodels.api as sm  \n",
    "X_train_lm1 = sm.add_constant(X_train_new1) \n",
    "\n",
    "lm2 = sm.OLS(y_train,X_train_lm1).fit()   # Running the linear model for lm2\n",
    "\n",
    "#Let's see the summary of our linear model\n",
    "print(lm2.summary())"
   ]
  },
  {
   "cell_type": "markdown",
   "metadata": {},
   "source": [
    "The value of both `R-squared` and `Adjusted R-squared` have become 0.84 approx. The model 2 seems like a stable model.\n",
    "\n",
    "However, we can still further check the multicollinearity between the variables if any on both the models"
   ]
  },
  {
   "cell_type": "markdown",
   "metadata": {},
   "source": [
    "###### `VIF` for `Model 1`"
   ]
  },
  {
   "cell_type": "code",
   "execution_count": 1484,
   "metadata": {},
   "outputs": [],
   "source": [
    "X_train_new = X_train_new.drop(['const'], axis=1) #dropping const as it is intercept"
   ]
  },
  {
   "cell_type": "markdown",
   "metadata": {},
   "source": [
    "Calculating the VIF of the variables to check the multicollinearity"
   ]
  },
  {
   "cell_type": "code",
   "execution_count": 1485,
   "metadata": {},
   "outputs": [
    {
     "data": {
      "text/html": [
       "<div>\n",
       "<style scoped>\n",
       "    .dataframe tbody tr th:only-of-type {\n",
       "        vertical-align: middle;\n",
       "    }\n",
       "\n",
       "    .dataframe tbody tr th {\n",
       "        vertical-align: top;\n",
       "    }\n",
       "\n",
       "    .dataframe thead th {\n",
       "        text-align: right;\n",
       "    }\n",
       "</style>\n",
       "<table border=\"1\" class=\"dataframe\">\n",
       "  <thead>\n",
       "    <tr style=\"text-align: right;\">\n",
       "      <th></th>\n",
       "      <th>Features</th>\n",
       "      <th>VIF</th>\n",
       "    </tr>\n",
       "  </thead>\n",
       "  <tbody>\n",
       "    <tr>\n",
       "      <td>3</td>\n",
       "      <td>hum</td>\n",
       "      <td>28.28</td>\n",
       "    </tr>\n",
       "    <tr>\n",
       "      <td>2</td>\n",
       "      <td>temp</td>\n",
       "      <td>16.03</td>\n",
       "    </tr>\n",
       "    <tr>\n",
       "      <td>4</td>\n",
       "      <td>windspeed</td>\n",
       "      <td>4.65</td>\n",
       "    </tr>\n",
       "    <tr>\n",
       "      <td>5</td>\n",
       "      <td>spring</td>\n",
       "      <td>4.01</td>\n",
       "    </tr>\n",
       "    <tr>\n",
       "      <td>7</td>\n",
       "      <td>winter</td>\n",
       "      <td>3.35</td>\n",
       "    </tr>\n",
       "    <tr>\n",
       "      <td>6</td>\n",
       "      <td>summer</td>\n",
       "      <td>2.78</td>\n",
       "    </tr>\n",
       "    <tr>\n",
       "      <td>12</td>\n",
       "      <td>Mist + Cloudy</td>\n",
       "      <td>2.30</td>\n",
       "    </tr>\n",
       "    <tr>\n",
       "      <td>0</td>\n",
       "      <td>yr</td>\n",
       "      <td>2.08</td>\n",
       "    </tr>\n",
       "    <tr>\n",
       "      <td>8</td>\n",
       "      <td>July</td>\n",
       "      <td>1.59</td>\n",
       "    </tr>\n",
       "    <tr>\n",
       "      <td>9</td>\n",
       "      <td>Sept</td>\n",
       "      <td>1.39</td>\n",
       "    </tr>\n",
       "    <tr>\n",
       "      <td>11</td>\n",
       "      <td>Light Snow + Rain</td>\n",
       "      <td>1.24</td>\n",
       "    </tr>\n",
       "    <tr>\n",
       "      <td>10</td>\n",
       "      <td>Saturday</td>\n",
       "      <td>1.19</td>\n",
       "    </tr>\n",
       "    <tr>\n",
       "      <td>1</td>\n",
       "      <td>holiday</td>\n",
       "      <td>1.05</td>\n",
       "    </tr>\n",
       "  </tbody>\n",
       "</table>\n",
       "</div>"
      ],
      "text/plain": [
       "             Features    VIF\n",
       "3                 hum  28.28\n",
       "2                temp  16.03\n",
       "4           windspeed   4.65\n",
       "5              spring   4.01\n",
       "7              winter   3.35\n",
       "6              summer   2.78\n",
       "12      Mist + Cloudy   2.30\n",
       "0                  yr   2.08\n",
       "8                July   1.59\n",
       "9                Sept   1.39\n",
       "11  Light Snow + Rain   1.24\n",
       "10           Saturday   1.19\n",
       "1             holiday   1.05"
      ]
     },
     "execution_count": 1485,
     "metadata": {},
     "output_type": "execute_result"
    }
   ],
   "source": [
    "# Calculate the VIFs for the new model\n",
    "from statsmodels.stats.outliers_influence import variance_inflation_factor\n",
    "\n",
    "vif = pd.DataFrame()\n",
    "X = X_train_new\n",
    "vif['Features'] = X.columns\n",
    "vif['VIF'] = [variance_inflation_factor(X.values, i) for i in range(X.shape[1])]\n",
    "vif['VIF'] = round(vif['VIF'], 2)\n",
    "vif = vif.sort_values(by = \"VIF\", ascending = False)\n",
    "vif"
   ]
  },
  {
   "cell_type": "markdown",
   "metadata": {},
   "source": [
    "###### `VIF` for `Model 2`"
   ]
  },
  {
   "cell_type": "code",
   "execution_count": 1486,
   "metadata": {},
   "outputs": [],
   "source": [
    "X_train_new1 = X_train_new1.drop(['const'], axis=1) #dropping const as it is intercept"
   ]
  },
  {
   "cell_type": "code",
   "execution_count": 1487,
   "metadata": {},
   "outputs": [
    {
     "data": {
      "text/html": [
       "<div>\n",
       "<style scoped>\n",
       "    .dataframe tbody tr th:only-of-type {\n",
       "        vertical-align: middle;\n",
       "    }\n",
       "\n",
       "    .dataframe tbody tr th {\n",
       "        vertical-align: top;\n",
       "    }\n",
       "\n",
       "    .dataframe thead th {\n",
       "        text-align: right;\n",
       "    }\n",
       "</style>\n",
       "<table border=\"1\" class=\"dataframe\">\n",
       "  <thead>\n",
       "    <tr style=\"text-align: right;\">\n",
       "      <th></th>\n",
       "      <th>Features</th>\n",
       "      <th>VIF</th>\n",
       "    </tr>\n",
       "  </thead>\n",
       "  <tbody>\n",
       "    <tr>\n",
       "      <td>3</td>\n",
       "      <td>hum</td>\n",
       "      <td>14.54</td>\n",
       "    </tr>\n",
       "    <tr>\n",
       "      <td>2</td>\n",
       "      <td>temp</td>\n",
       "      <td>8.01</td>\n",
       "    </tr>\n",
       "    <tr>\n",
       "      <td>4</td>\n",
       "      <td>windspeed</td>\n",
       "      <td>3.56</td>\n",
       "    </tr>\n",
       "    <tr>\n",
       "      <td>10</td>\n",
       "      <td>Mist + Cloudy</td>\n",
       "      <td>2.13</td>\n",
       "    </tr>\n",
       "    <tr>\n",
       "      <td>0</td>\n",
       "      <td>yr</td>\n",
       "      <td>2.01</td>\n",
       "    </tr>\n",
       "    <tr>\n",
       "      <td>6</td>\n",
       "      <td>winter</td>\n",
       "      <td>1.66</td>\n",
       "    </tr>\n",
       "    <tr>\n",
       "      <td>5</td>\n",
       "      <td>summer</td>\n",
       "      <td>1.58</td>\n",
       "    </tr>\n",
       "    <tr>\n",
       "      <td>7</td>\n",
       "      <td>Sept</td>\n",
       "      <td>1.21</td>\n",
       "    </tr>\n",
       "    <tr>\n",
       "      <td>8</td>\n",
       "      <td>Saturday</td>\n",
       "      <td>1.19</td>\n",
       "    </tr>\n",
       "    <tr>\n",
       "      <td>9</td>\n",
       "      <td>Light Snow + Rain</td>\n",
       "      <td>1.17</td>\n",
       "    </tr>\n",
       "    <tr>\n",
       "      <td>1</td>\n",
       "      <td>holiday</td>\n",
       "      <td>1.05</td>\n",
       "    </tr>\n",
       "  </tbody>\n",
       "</table>\n",
       "</div>"
      ],
      "text/plain": [
       "             Features    VIF\n",
       "3                 hum  14.54\n",
       "2                temp   8.01\n",
       "4           windspeed   3.56\n",
       "10      Mist + Cloudy   2.13\n",
       "0                  yr   2.01\n",
       "6              winter   1.66\n",
       "5              summer   1.58\n",
       "7                Sept   1.21\n",
       "8            Saturday   1.19\n",
       "9   Light Snow + Rain   1.17\n",
       "1             holiday   1.05"
      ]
     },
     "execution_count": 1487,
     "metadata": {},
     "output_type": "execute_result"
    }
   ],
   "source": [
    "# Calculate the VIFs for the new model\n",
    "from statsmodels.stats.outliers_influence import variance_inflation_factor\n",
    "\n",
    "vif = pd.DataFrame()\n",
    "X = X_train_new1\n",
    "vif['Features'] = X.columns\n",
    "vif['VIF'] = [variance_inflation_factor(X.values, i) for i in range(X.shape[1])]\n",
    "vif['VIF'] = round(vif['VIF'], 2)\n",
    "vif = vif.sort_values(by = \"VIF\", ascending = False)\n",
    "vif"
   ]
  },
  {
   "cell_type": "markdown",
   "metadata": {},
   "source": [
    "From the above listed VIF of the variables in both the `model 1` and `model 2`, we can see that the VIF for `temp` and `hum` variables are high. We can first `drop hum from model 2` and see how it is affecting the model."
   ]
  },
  {
   "cell_type": "code",
   "execution_count": 1488,
   "metadata": {},
   "outputs": [],
   "source": [
    "X_train_new1 = X_train_new1.drop(['hum'], axis=1)"
   ]
  },
  {
   "cell_type": "code",
   "execution_count": 1489,
   "metadata": {},
   "outputs": [
    {
     "name": "stdout",
     "output_type": "stream",
     "text": [
      "                            OLS Regression Results                            \n",
      "==============================================================================\n",
      "Dep. Variable:                    cnt   R-squared:                       0.837\n",
      "Model:                            OLS   Adj. R-squared:                  0.834\n",
      "Method:                 Least Squares   F-statistic:                     256.0\n",
      "Date:                Mon, 27 Jul 2020   Prob (F-statistic):          2.88e-189\n",
      "Time:                        19:32:13   Log-Likelihood:                 500.84\n",
      "No. Observations:                 510   AIC:                            -979.7\n",
      "Df Residuals:                     499   BIC:                            -933.1\n",
      "Df Model:                          10                                         \n",
      "Covariance Type:            nonrobust                                         \n",
      "=====================================================================================\n",
      "                        coef    std err          t      P>|t|      [0.025      0.975]\n",
      "-------------------------------------------------------------------------------------\n",
      "const                 0.1350      0.017      8.129      0.000       0.102       0.168\n",
      "yr                    0.2327      0.008     28.440      0.000       0.217       0.249\n",
      "holiday              -0.1072      0.026     -4.123      0.000      -0.158      -0.056\n",
      "temp                  0.5471      0.020     27.806      0.000       0.508       0.586\n",
      "windspeed            -0.1531      0.025     -6.142      0.000      -0.202      -0.104\n",
      "summer                0.0866      0.010      8.427      0.000       0.066       0.107\n",
      "winter                0.1323      0.010     12.847      0.000       0.112       0.153\n",
      "Sept                  0.0992      0.016      6.317      0.000       0.068       0.130\n",
      "Saturday             -0.0500      0.012     -4.288      0.000      -0.073      -0.027\n",
      "Light Snow + Rain    -0.2892      0.025    -11.744      0.000      -0.338      -0.241\n",
      "Mist + Cloudy        -0.0819      0.009     -9.379      0.000      -0.099      -0.065\n",
      "==============================================================================\n",
      "Omnibus:                       60.824   Durbin-Watson:                   2.103\n",
      "Prob(Omnibus):                  0.000   Jarque-Bera (JB):              133.761\n",
      "Skew:                          -0.656   Prob(JB):                     9.00e-30\n",
      "Kurtosis:                       5.139   Cond. No.                         10.2\n",
      "==============================================================================\n",
      "\n",
      "Warnings:\n",
      "[1] Standard Errors assume that the covariance matrix of the errors is correctly specified.\n"
     ]
    }
   ],
   "source": [
    "#Rebuilding the model after removing \"hum\" variable\n",
    "\n",
    "# Adding a constant variable \n",
    "import statsmodels.api as sm  \n",
    "X_train_lm1 = sm.add_constant(X_train_new1)\n",
    "\n",
    "lm2 = sm.OLS(y_train,X_train_lm1).fit()   # Running the linear model- lm2\n",
    "\n",
    "#Let's see the summary of our linear model\n",
    "print(lm2.summary())"
   ]
  },
  {
   "cell_type": "markdown",
   "metadata": {},
   "source": [
    "The `R-squared` and `Adjusted R-squared` values are not having large dip in the value after removing `hum` variable. We can now further check the VIF of `temp` after removing `hum`"
   ]
  },
  {
   "cell_type": "code",
   "execution_count": 1490,
   "metadata": {},
   "outputs": [
    {
     "data": {
      "text/html": [
       "<div>\n",
       "<style scoped>\n",
       "    .dataframe tbody tr th:only-of-type {\n",
       "        vertical-align: middle;\n",
       "    }\n",
       "\n",
       "    .dataframe tbody tr th {\n",
       "        vertical-align: top;\n",
       "    }\n",
       "\n",
       "    .dataframe thead th {\n",
       "        text-align: right;\n",
       "    }\n",
       "</style>\n",
       "<table border=\"1\" class=\"dataframe\">\n",
       "  <thead>\n",
       "    <tr style=\"text-align: right;\">\n",
       "      <th></th>\n",
       "      <th>Features</th>\n",
       "      <th>VIF</th>\n",
       "    </tr>\n",
       "  </thead>\n",
       "  <tbody>\n",
       "    <tr>\n",
       "      <td>2</td>\n",
       "      <td>temp</td>\n",
       "      <td>3.72</td>\n",
       "    </tr>\n",
       "    <tr>\n",
       "      <td>3</td>\n",
       "      <td>windspeed</td>\n",
       "      <td>3.08</td>\n",
       "    </tr>\n",
       "    <tr>\n",
       "      <td>0</td>\n",
       "      <td>yr</td>\n",
       "      <td>2.00</td>\n",
       "    </tr>\n",
       "    <tr>\n",
       "      <td>4</td>\n",
       "      <td>summer</td>\n",
       "      <td>1.56</td>\n",
       "    </tr>\n",
       "    <tr>\n",
       "      <td>9</td>\n",
       "      <td>Mist + Cloudy</td>\n",
       "      <td>1.48</td>\n",
       "    </tr>\n",
       "    <tr>\n",
       "      <td>5</td>\n",
       "      <td>winter</td>\n",
       "      <td>1.39</td>\n",
       "    </tr>\n",
       "    <tr>\n",
       "      <td>6</td>\n",
       "      <td>Sept</td>\n",
       "      <td>1.21</td>\n",
       "    </tr>\n",
       "    <tr>\n",
       "      <td>7</td>\n",
       "      <td>Saturday</td>\n",
       "      <td>1.16</td>\n",
       "    </tr>\n",
       "    <tr>\n",
       "      <td>8</td>\n",
       "      <td>Light Snow + Rain</td>\n",
       "      <td>1.08</td>\n",
       "    </tr>\n",
       "    <tr>\n",
       "      <td>1</td>\n",
       "      <td>holiday</td>\n",
       "      <td>1.04</td>\n",
       "    </tr>\n",
       "  </tbody>\n",
       "</table>\n",
       "</div>"
      ],
      "text/plain": [
       "            Features   VIF\n",
       "2               temp  3.72\n",
       "3          windspeed  3.08\n",
       "0                 yr  2.00\n",
       "4             summer  1.56\n",
       "9      Mist + Cloudy  1.48\n",
       "5             winter  1.39\n",
       "6               Sept  1.21\n",
       "7           Saturday  1.16\n",
       "8  Light Snow + Rain  1.08\n",
       "1            holiday  1.04"
      ]
     },
     "execution_count": 1490,
     "metadata": {},
     "output_type": "execute_result"
    }
   ],
   "source": [
    "# Calculate the VIFs for the new model\n",
    "from statsmodels.stats.outliers_influence import variance_inflation_factor\n",
    "\n",
    "vif = pd.DataFrame()\n",
    "X = X_train_new1\n",
    "vif['Features'] = X.columns\n",
    "vif['VIF'] = [variance_inflation_factor(X.values, i) for i in range(X.shape[1])]\n",
    "vif['VIF'] = round(vif['VIF'], 2)\n",
    "vif = vif.sort_values(by = \"VIF\", ascending = False)\n",
    "vif"
   ]
  },
  {
   "cell_type": "markdown",
   "metadata": {},
   "source": [
    "From the above VIF table, we can see that after removing the `hum` variable, the VIF for `temp` has decreased.\n",
    "The model seems to have become stable from all aspects.\n",
    "\n",
    "Even though we have got a stable model, we can still try to remove few more features as far as the `R-squared` and `Adjusted R-squared` don't vary alot from each other.\n",
    "\n",
    "We can now build one more model by removing features from Model 2. We will try to remove the features randomply and see how a model is getting efficient with less features.\n",
    "\n",
    "\n",
    "###### Model 3"
   ]
  },
  {
   "cell_type": "code",
   "execution_count": 1491,
   "metadata": {},
   "outputs": [],
   "source": [
    "# Remove holiday variable and checking the model :\n",
    "\n",
    "X_train_new2 = X_train_new1.drop(['holiday'], axis=1)"
   ]
  },
  {
   "cell_type": "code",
   "execution_count": 1492,
   "metadata": {},
   "outputs": [
    {
     "name": "stdout",
     "output_type": "stream",
     "text": [
      "                            OLS Regression Results                            \n",
      "==============================================================================\n",
      "Dep. Variable:                    cnt   R-squared:                       0.831\n",
      "Model:                            OLS   Adj. R-squared:                  0.828\n",
      "Method:                 Least Squares   F-statistic:                     273.7\n",
      "Date:                Mon, 27 Jul 2020   Prob (F-statistic):          7.01e-187\n",
      "Time:                        19:32:18   Log-Likelihood:                 492.30\n",
      "No. Observations:                 510   AIC:                            -964.6\n",
      "Df Residuals:                     500   BIC:                            -922.3\n",
      "Df Model:                           9                                         \n",
      "Covariance Type:            nonrobust                                         \n",
      "=====================================================================================\n",
      "                        coef    std err          t      P>|t|      [0.025      0.975]\n",
      "-------------------------------------------------------------------------------------\n",
      "const                 0.1289      0.017      7.676      0.000       0.096       0.162\n",
      "yr                    0.2330      0.008     28.039      0.000       0.217       0.249\n",
      "temp                  0.5522      0.020     27.681      0.000       0.513       0.591\n",
      "windspeed            -0.1552      0.025     -6.132      0.000      -0.205      -0.106\n",
      "summer                0.0881      0.010      8.438      0.000       0.068       0.109\n",
      "winter                0.1309      0.010     12.522      0.000       0.110       0.151\n",
      "Sept                  0.0957      0.016      6.007      0.000       0.064       0.127\n",
      "Saturday             -0.0465      0.012     -3.940      0.000      -0.070      -0.023\n",
      "Light Snow + Rain    -0.2842      0.025    -11.373      0.000      -0.333      -0.235\n",
      "Mist + Cloudy        -0.0799      0.009     -9.023      0.000      -0.097      -0.062\n",
      "==============================================================================\n",
      "Omnibus:                       71.871   Durbin-Watson:                   2.043\n",
      "Prob(Omnibus):                  0.000   Jarque-Bera (JB):              169.608\n",
      "Skew:                          -0.740   Prob(JB):                     1.48e-37\n",
      "Kurtosis:                       5.407   Cond. No.                         10.2\n",
      "==============================================================================\n",
      "\n",
      "Warnings:\n",
      "[1] Standard Errors assume that the covariance matrix of the errors is correctly specified.\n"
     ]
    }
   ],
   "source": [
    "#Rebuilding the model after removing \"holiday\" variable\n",
    "\n",
    "# Adding a constant variable \n",
    "import statsmodels.api as sm  \n",
    "X_train_lm2 = sm.add_constant(X_train_new2)\n",
    "\n",
    "lm3 = sm.OLS(y_train,X_train_lm2).fit()   # Running the linear model- lm3\n",
    "\n",
    "#Let's see the summary of our linear model\n",
    "print(lm3.summary())"
   ]
  },
  {
   "cell_type": "markdown",
   "metadata": {},
   "source": [
    "The values of `R-squared` and `Adjusted R-squared` are seen to be not varying much with 0.83 each.\n",
    "We can now try to remove either `windspeed`."
   ]
  },
  {
   "cell_type": "code",
   "execution_count": 1493,
   "metadata": {},
   "outputs": [],
   "source": [
    "# Remove windspeed variable and checking the model :\n",
    "\n",
    "X_train_new2 = X_train_new2.drop(['windspeed'], axis=1)"
   ]
  },
  {
   "cell_type": "code",
   "execution_count": 1494,
   "metadata": {},
   "outputs": [
    {
     "name": "stdout",
     "output_type": "stream",
     "text": [
      "                            OLS Regression Results                            \n",
      "==============================================================================\n",
      "Dep. Variable:                    cnt   R-squared:                       0.819\n",
      "Model:                            OLS   Adj. R-squared:                  0.816\n",
      "Method:                 Least Squares   F-statistic:                     282.6\n",
      "Date:                Mon, 27 Jul 2020   Prob (F-statistic):          2.85e-180\n",
      "Time:                        19:32:22   Log-Likelihood:                 473.81\n",
      "No. Observations:                 510   AIC:                            -929.6\n",
      "Df Residuals:                     501   BIC:                            -891.5\n",
      "Df Model:                           8                                         \n",
      "Covariance Type:            nonrobust                                         \n",
      "=====================================================================================\n",
      "                        coef    std err          t      P>|t|      [0.025      0.975]\n",
      "-------------------------------------------------------------------------------------\n",
      "const                 0.0650      0.014      4.764      0.000       0.038       0.092\n",
      "yr                    0.2318      0.009     26.932      0.000       0.215       0.249\n",
      "temp                  0.5774      0.020     28.555      0.000       0.538       0.617\n",
      "summer                0.0825      0.011      7.657      0.000       0.061       0.104\n",
      "winter                0.1383      0.011     12.861      0.000       0.117       0.159\n",
      "Sept                  0.1021      0.016      6.198      0.000       0.070       0.134\n",
      "Saturday             -0.0465      0.012     -3.804      0.000      -0.071      -0.023\n",
      "Light Snow + Rain    -0.2992      0.026    -11.615      0.000      -0.350      -0.249\n",
      "Mist + Cloudy        -0.0779      0.009     -8.503      0.000      -0.096      -0.060\n",
      "==============================================================================\n",
      "Omnibus:                       68.839   Durbin-Watson:                   2.019\n",
      "Prob(Omnibus):                  0.000   Jarque-Bera (JB):              158.699\n",
      "Skew:                          -0.718   Prob(JB):                     3.46e-35\n",
      "Kurtosis:                       5.324   Cond. No.                         8.39\n",
      "==============================================================================\n",
      "\n",
      "Warnings:\n",
      "[1] Standard Errors assume that the covariance matrix of the errors is correctly specified.\n"
     ]
    }
   ],
   "source": [
    "#Rebuilding the model after removing \"windspeed\" variable\n",
    "\n",
    "# Adding a constant variable \n",
    "import statsmodels.api as sm  \n",
    "X_train_lm2 = sm.add_constant(X_train_new2)\n",
    "\n",
    "lm3 = sm.OLS(y_train,X_train_lm2).fit()   # Running the linear model- lm3\n",
    "\n",
    "#Let's see the summary of our linear model\n",
    "print(lm3.summary())"
   ]
  },
  {
   "cell_type": "code",
   "execution_count": 1495,
   "metadata": {},
   "outputs": [],
   "source": [
    "# Remove Saturday variable and checking the model :\n",
    "\n",
    "X_train_new2 = X_train_new2.drop(['Saturday'], axis=1)"
   ]
  },
  {
   "cell_type": "code",
   "execution_count": 1496,
   "metadata": {},
   "outputs": [
    {
     "name": "stdout",
     "output_type": "stream",
     "text": [
      "                            OLS Regression Results                            \n",
      "==============================================================================\n",
      "Dep. Variable:                    cnt   R-squared:                       0.813\n",
      "Model:                            OLS   Adj. R-squared:                  0.811\n",
      "Method:                 Least Squares   F-statistic:                     312.5\n",
      "Date:                Mon, 27 Jul 2020   Prob (F-statistic):          1.91e-178\n",
      "Time:                        19:32:25   Log-Likelihood:                 466.55\n",
      "No. Observations:                 510   AIC:                            -917.1\n",
      "Df Residuals:                     502   BIC:                            -883.2\n",
      "Df Model:                           7                                         \n",
      "Covariance Type:            nonrobust                                         \n",
      "=====================================================================================\n",
      "                        coef    std err          t      P>|t|      [0.025      0.975]\n",
      "-------------------------------------------------------------------------------------\n",
      "const                 0.0575      0.014      4.200      0.000       0.031       0.084\n",
      "yr                    0.2319      0.009     26.589      0.000       0.215       0.249\n",
      "temp                  0.5779      0.020     28.204      0.000       0.538       0.618\n",
      "summer                0.0826      0.011      7.567      0.000       0.061       0.104\n",
      "winter                0.1368      0.011     12.562      0.000       0.115       0.158\n",
      "Sept                  0.1041      0.017      6.237      0.000       0.071       0.137\n",
      "Light Snow + Rain    -0.2945      0.026    -11.295      0.000      -0.346      -0.243\n",
      "Mist + Cloudy        -0.0761      0.009     -8.203      0.000      -0.094      -0.058\n",
      "==============================================================================\n",
      "Omnibus:                       64.670   Durbin-Watson:                   2.014\n",
      "Prob(Omnibus):                  0.000   Jarque-Bera (JB):              135.501\n",
      "Skew:                          -0.710   Prob(JB):                     3.77e-30\n",
      "Kurtosis:                       5.088   Cond. No.                         8.32\n",
      "==============================================================================\n",
      "\n",
      "Warnings:\n",
      "[1] Standard Errors assume that the covariance matrix of the errors is correctly specified.\n"
     ]
    }
   ],
   "source": [
    "#Rebuilding the model after removing \"Saturday\" variable\n",
    "\n",
    "# Adding a constant variable \n",
    "import statsmodels.api as sm  \n",
    "X_train_lm2 = sm.add_constant(X_train_new2)\n",
    "\n",
    "lm3 = sm.OLS(y_train,X_train_lm2).fit()   # Running the linear model- lm3\n",
    "\n",
    "#Let's see the summary of our linear model\n",
    "print(lm3.summary())"
   ]
  },
  {
   "cell_type": "markdown",
   "metadata": {},
   "source": [
    "Check VIF of the Model 3 after removing the above variables."
   ]
  },
  {
   "cell_type": "code",
   "execution_count": 1497,
   "metadata": {},
   "outputs": [
    {
     "data": {
      "text/html": [
       "<div>\n",
       "<style scoped>\n",
       "    .dataframe tbody tr th:only-of-type {\n",
       "        vertical-align: middle;\n",
       "    }\n",
       "\n",
       "    .dataframe tbody tr th {\n",
       "        vertical-align: top;\n",
       "    }\n",
       "\n",
       "    .dataframe thead th {\n",
       "        text-align: right;\n",
       "    }\n",
       "</style>\n",
       "<table border=\"1\" class=\"dataframe\">\n",
       "  <thead>\n",
       "    <tr style=\"text-align: right;\">\n",
       "      <th></th>\n",
       "      <th>Features</th>\n",
       "      <th>VIF</th>\n",
       "    </tr>\n",
       "  </thead>\n",
       "  <tbody>\n",
       "    <tr>\n",
       "      <td>1</td>\n",
       "      <td>temp</td>\n",
       "      <td>2.85</td>\n",
       "    </tr>\n",
       "    <tr>\n",
       "      <td>0</td>\n",
       "      <td>yr</td>\n",
       "      <td>1.94</td>\n",
       "    </tr>\n",
       "    <tr>\n",
       "      <td>2</td>\n",
       "      <td>summer</td>\n",
       "      <td>1.51</td>\n",
       "    </tr>\n",
       "    <tr>\n",
       "      <td>6</td>\n",
       "      <td>Mist + Cloudy</td>\n",
       "      <td>1.43</td>\n",
       "    </tr>\n",
       "    <tr>\n",
       "      <td>3</td>\n",
       "      <td>winter</td>\n",
       "      <td>1.33</td>\n",
       "    </tr>\n",
       "    <tr>\n",
       "      <td>4</td>\n",
       "      <td>Sept</td>\n",
       "      <td>1.19</td>\n",
       "    </tr>\n",
       "    <tr>\n",
       "      <td>5</td>\n",
       "      <td>Light Snow + Rain</td>\n",
       "      <td>1.06</td>\n",
       "    </tr>\n",
       "  </tbody>\n",
       "</table>\n",
       "</div>"
      ],
      "text/plain": [
       "            Features   VIF\n",
       "1               temp  2.85\n",
       "0                 yr  1.94\n",
       "2             summer  1.51\n",
       "6      Mist + Cloudy  1.43\n",
       "3             winter  1.33\n",
       "4               Sept  1.19\n",
       "5  Light Snow + Rain  1.06"
      ]
     },
     "execution_count": 1497,
     "metadata": {},
     "output_type": "execute_result"
    }
   ],
   "source": [
    "# Calculate the VIFs for the new model\n",
    "from statsmodels.stats.outliers_influence import variance_inflation_factor\n",
    "\n",
    "vif = pd.DataFrame()\n",
    "X = X_train_new2\n",
    "vif['Features'] = X.columns\n",
    "vif['VIF'] = [variance_inflation_factor(X.values, i) for i in range(X.shape[1])]\n",
    "vif['VIF'] = round(vif['VIF'], 2)\n",
    "vif = vif.sort_values(by = \"VIF\", ascending = False)\n",
    "vif"
   ]
  },
  {
   "cell_type": "markdown",
   "metadata": {},
   "source": [
    "We see that after removing `holiday`,`windspeed` and `Saturday`, the VIF of the variables have also improved and all of them are under 5.\n",
    "\n",
    "We can see that the value of `R-squared` and `Adjusted R-squared` are similar with 0.81. We have actually got a very significant model with much reduced features.\n",
    "\n",
    "This can be considered a nice model, but further we can also try to remove features and see how it is effecting further.\n",
    "\n",
    "We can also try and remove other features and see if there is any difference in the model instead of `holiday`,`windspeed`,`Saturday`.\n",
    "\n",
    "We will try to remove `holiday`,`Sept`and `Saturday` from Model 2 and see what is the difference.\n",
    "\n",
    "\n",
    "###### Model 4"
   ]
  },
  {
   "cell_type": "code",
   "execution_count": 1498,
   "metadata": {},
   "outputs": [
    {
     "name": "stdout",
     "output_type": "stream",
     "text": [
      "                            OLS Regression Results                            \n",
      "==============================================================================\n",
      "Dep. Variable:                    cnt   R-squared:                       0.831\n",
      "Model:                            OLS   Adj. R-squared:                  0.828\n",
      "Method:                 Least Squares   F-statistic:                     273.7\n",
      "Date:                Mon, 27 Jul 2020   Prob (F-statistic):          7.01e-187\n",
      "Time:                        19:32:29   Log-Likelihood:                 492.30\n",
      "No. Observations:                 510   AIC:                            -964.6\n",
      "Df Residuals:                     500   BIC:                            -922.3\n",
      "Df Model:                           9                                         \n",
      "Covariance Type:            nonrobust                                         \n",
      "=====================================================================================\n",
      "                        coef    std err          t      P>|t|      [0.025      0.975]\n",
      "-------------------------------------------------------------------------------------\n",
      "const                 0.1289      0.017      7.676      0.000       0.096       0.162\n",
      "yr                    0.2330      0.008     28.039      0.000       0.217       0.249\n",
      "temp                  0.5522      0.020     27.681      0.000       0.513       0.591\n",
      "windspeed            -0.1552      0.025     -6.132      0.000      -0.205      -0.106\n",
      "summer                0.0881      0.010      8.438      0.000       0.068       0.109\n",
      "winter                0.1309      0.010     12.522      0.000       0.110       0.151\n",
      "Sept                  0.0957      0.016      6.007      0.000       0.064       0.127\n",
      "Saturday             -0.0465      0.012     -3.940      0.000      -0.070      -0.023\n",
      "Light Snow + Rain    -0.2842      0.025    -11.373      0.000      -0.333      -0.235\n",
      "Mist + Cloudy        -0.0799      0.009     -9.023      0.000      -0.097      -0.062\n",
      "==============================================================================\n",
      "Omnibus:                       71.871   Durbin-Watson:                   2.043\n",
      "Prob(Omnibus):                  0.000   Jarque-Bera (JB):              169.608\n",
      "Skew:                          -0.740   Prob(JB):                     1.48e-37\n",
      "Kurtosis:                       5.407   Cond. No.                         10.2\n",
      "==============================================================================\n",
      "\n",
      "Warnings:\n",
      "[1] Standard Errors assume that the covariance matrix of the errors is correctly specified.\n"
     ]
    }
   ],
   "source": [
    "# Remove holiday variable and checking the model :\n",
    "\n",
    "X_train_new3 = X_train_new1.drop(['holiday'], axis=1)\n",
    "\n",
    "#Rebuilding the model after removing \"holiday\" variable\n",
    "\n",
    "# Adding a constant variable \n",
    "import statsmodels.api as sm  \n",
    "X_train_lm3 = sm.add_constant(X_train_new3)\n",
    "\n",
    "lm4 = sm.OLS(y_train,X_train_lm3).fit()   # Running the linear model- lm4\n",
    "\n",
    "#Let's see the summary of our linear model\n",
    "print(lm4.summary())"
   ]
  },
  {
   "cell_type": "code",
   "execution_count": 1499,
   "metadata": {},
   "outputs": [
    {
     "name": "stdout",
     "output_type": "stream",
     "text": [
      "                            OLS Regression Results                            \n",
      "==============================================================================\n",
      "Dep. Variable:                    cnt   R-squared:                       0.819\n",
      "Model:                            OLS   Adj. R-squared:                  0.816\n",
      "Method:                 Least Squares   F-statistic:                     283.6\n",
      "Date:                Mon, 27 Jul 2020   Prob (F-statistic):          1.41e-180\n",
      "Time:                        19:32:35   Log-Likelihood:                 474.53\n",
      "No. Observations:                 510   AIC:                            -931.1\n",
      "Df Residuals:                     501   BIC:                            -893.0\n",
      "Df Model:                           8                                         \n",
      "Covariance Type:            nonrobust                                         \n",
      "=====================================================================================\n",
      "                        coef    std err          t      P>|t|      [0.025      0.975]\n",
      "-------------------------------------------------------------------------------------\n",
      "const                 0.1290      0.017      7.426      0.000       0.095       0.163\n",
      "yr                    0.2322      0.009     27.018      0.000       0.215       0.249\n",
      "temp                  0.5776      0.020     28.634      0.000       0.538       0.617\n",
      "windspeed            -0.1652      0.026     -6.320      0.000      -0.217      -0.114\n",
      "summer                0.0756      0.011      7.146      0.000       0.055       0.096\n",
      "winter                0.1280      0.011     11.844      0.000       0.107       0.149\n",
      "Saturday             -0.0488      0.012     -3.992      0.000      -0.073      -0.025\n",
      "Light Snow + Rain    -0.2763      0.026    -10.703      0.000      -0.327      -0.226\n",
      "Mist + Cloudy        -0.0757      0.009     -8.291      0.000      -0.094      -0.058\n",
      "==============================================================================\n",
      "Omnibus:                       62.762   Durbin-Watson:                   1.985\n",
      "Prob(Omnibus):                  0.000   Jarque-Bera (JB):              164.513\n",
      "Skew:                          -0.617   Prob(JB):                     1.89e-36\n",
      "Kurtosis:                       5.494   Cond. No.                         10.2\n",
      "==============================================================================\n",
      "\n",
      "Warnings:\n",
      "[1] Standard Errors assume that the covariance matrix of the errors is correctly specified.\n"
     ]
    }
   ],
   "source": [
    "# Remove Sept variable and checking the model :\n",
    "\n",
    "X_train_new3 = X_train_new3.drop(['Sept'], axis=1)\n",
    "\n",
    "#Rebuilding the model after removing \"Sept\" variable\n",
    "\n",
    "# Adding a constant variable \n",
    "import statsmodels.api as sm  \n",
    "X_train_lm3 = sm.add_constant(X_train_new3)\n",
    "\n",
    "lm4 = sm.OLS(y_train,X_train_lm3).fit()   # Running the linear model- lm4\n",
    "\n",
    "#Let's see the summary of our linear model\n",
    "print(lm4.summary())"
   ]
  },
  {
   "cell_type": "code",
   "execution_count": 1500,
   "metadata": {},
   "outputs": [
    {
     "name": "stdout",
     "output_type": "stream",
     "text": [
      "                            OLS Regression Results                            \n",
      "==============================================================================\n",
      "Dep. Variable:                    cnt   R-squared:                       0.813\n",
      "Model:                            OLS   Adj. R-squared:                  0.811\n",
      "Method:                 Least Squares   F-statistic:                     312.5\n",
      "Date:                Mon, 27 Jul 2020   Prob (F-statistic):          1.92e-178\n",
      "Time:                        19:32:38   Log-Likelihood:                 466.55\n",
      "No. Observations:                 510   AIC:                            -917.1\n",
      "Df Residuals:                     502   BIC:                            -883.2\n",
      "Df Model:                           7                                         \n",
      "Covariance Type:            nonrobust                                         \n",
      "=====================================================================================\n",
      "                        coef    std err          t      P>|t|      [0.025      0.975]\n",
      "-------------------------------------------------------------------------------------\n",
      "const                 0.1211      0.018      6.914      0.000       0.087       0.156\n",
      "yr                    0.2323      0.009     26.635      0.000       0.215       0.249\n",
      "temp                  0.5786      0.020     28.272      0.000       0.538       0.619\n",
      "windspeed            -0.1654      0.027     -6.236      0.000      -0.217      -0.113\n",
      "summer                0.0755      0.011      7.029      0.000       0.054       0.097\n",
      "winter                0.1263      0.011     11.530      0.000       0.105       0.148\n",
      "Light Snow + Rain    -0.2712      0.026    -10.365      0.000      -0.323      -0.220\n",
      "Mist + Cloudy        -0.0737      0.009     -7.963      0.000      -0.092      -0.055\n",
      "==============================================================================\n",
      "Omnibus:                       58.136   Durbin-Watson:                   1.976\n",
      "Prob(Omnibus):                  0.000   Jarque-Bera (JB):              143.406\n",
      "Skew:                          -0.591   Prob(JB):                     7.24e-32\n",
      "Kurtosis:                       5.313   Cond. No.                         10.1\n",
      "==============================================================================\n",
      "\n",
      "Warnings:\n",
      "[1] Standard Errors assume that the covariance matrix of the errors is correctly specified.\n"
     ]
    }
   ],
   "source": [
    "# Remove Saturday variable and checking the model :\n",
    "\n",
    "X_train_new3 = X_train_new3.drop(['Saturday'], axis=1)\n",
    "\n",
    "#Rebuilding the model after removing \"Saturday\" variable\n",
    "\n",
    "# Adding a constant variable \n",
    "import statsmodels.api as sm  \n",
    "X_train_lm3 = sm.add_constant(X_train_new3)\n",
    "\n",
    "lm4 = sm.OLS(y_train,X_train_lm3).fit()   # Running the linear model- lm4\n",
    "\n",
    "#Let's see the summary of our linear model\n",
    "print(lm4.summary())"
   ]
  },
  {
   "cell_type": "markdown",
   "metadata": {},
   "source": [
    "Here, we see that both Model 3 and Model 4 are having same `R-squared` and `Adjusted R-squared` i.e. `0.813` and `0.811` respectively. We can either keep Model 3 or Model 4 based on the prediction power calculated on test data. \n",
    "\n",
    "We can also try and remove more features and see if it is holding the Model stable. We will remove `Sept` from Model 3 and see how it is affecting it."
   ]
  },
  {
   "cell_type": "markdown",
   "metadata": {},
   "source": [
    "###### Model 5"
   ]
  },
  {
   "cell_type": "code",
   "execution_count": 1369,
   "metadata": {},
   "outputs": [],
   "source": [
    "# Remove Sept variable and checking the model :\n",
    "\n",
    "X_train_new4 = X_train_new2.drop(['Sept'], axis=1)\n"
   ]
  },
  {
   "cell_type": "code",
   "execution_count": 1370,
   "metadata": {},
   "outputs": [
    {
     "name": "stdout",
     "output_type": "stream",
     "text": [
      "                            OLS Regression Results                            \n",
      "==============================================================================\n",
      "Dep. Variable:                    cnt   R-squared:                       0.799\n",
      "Model:                            OLS   Adj. R-squared:                  0.797\n",
      "Method:                 Least Squares   F-statistic:                     333.0\n",
      "Date:                Mon, 27 Jul 2020   Prob (F-statistic):          1.31e-171\n",
      "Time:                        18:09:26   Log-Likelihood:                 447.52\n",
      "No. Observations:                 510   AIC:                            -881.0\n",
      "Df Residuals:                     503   BIC:                            -851.4\n",
      "Df Model:                           6                                         \n",
      "Covariance Type:            nonrobust                                         \n",
      "=====================================================================================\n",
      "                        coef    std err          t      P>|t|      [0.025      0.975]\n",
      "-------------------------------------------------------------------------------------\n",
      "const                 0.0527      0.014      3.721      0.000       0.025       0.081\n",
      "yr                    0.2309      0.009     25.540      0.000       0.213       0.249\n",
      "temp                  0.6074      0.021     29.376      0.000       0.567       0.648\n",
      "summer                0.0686      0.011      6.193      0.000       0.047       0.090\n",
      "winter                0.1340      0.011     11.877      0.000       0.112       0.156\n",
      "Light Snow + Rain    -0.2867      0.027    -10.615      0.000      -0.340      -0.234\n",
      "Mist + Cloudy        -0.0713      0.010     -7.436      0.000      -0.090      -0.052\n",
      "==============================================================================\n",
      "Omnibus:                       57.041   Durbin-Watson:                   1.961\n",
      "Prob(Omnibus):                  0.000   Jarque-Bera (JB):              131.525\n",
      "Skew:                          -0.602   Prob(JB):                     2.75e-29\n",
      "Kurtosis:                       5.177   Cond. No.                         8.26\n",
      "==============================================================================\n",
      "\n",
      "Warnings:\n",
      "[1] Standard Errors assume that the covariance matrix of the errors is correctly specified.\n"
     ]
    }
   ],
   "source": [
    "#Rebuilding the model after removing \"Sept\" variable\n",
    "\n",
    "# Adding a constant variable \n",
    "import statsmodels.api as sm  \n",
    "X_train_lm4 = sm.add_constant(X_train_new4)\n",
    "\n",
    "lm5 = sm.OLS(y_train,X_train_lm4).fit()   # Running the linear model- lm4\n",
    "\n",
    "#Let's see the summary of our linear model\n",
    "print(lm5.summary())"
   ]
  },
  {
   "cell_type": "markdown",
   "metadata": {},
   "source": [
    "We can now see that the value for `R-squared` has dropped significantly after removing `Sept`. Hence, we will limit our feature selection to thrid model."
   ]
  },
  {
   "cell_type": "markdown",
   "metadata": {},
   "source": [
    "Now, we have four models with a very significant `R-squared` and `Adjusted R-squared` in all of them.\n",
    "We can further check evaluate both the models and see if it can narrow down our search for best fit model."
   ]
  },
  {
   "cell_type": "markdown",
   "metadata": {},
   "source": [
    "### Residual Analysis of the train data\n",
    "\n",
    "So, now to check if the error terms are also normally distributed (which is infact, one of the major assumptions of linear regression), let us plot the histogram of the error terms and see what it looks like."
   ]
  },
  {
   "cell_type": "markdown",
   "metadata": {},
   "source": [
    "###### Model 1"
   ]
  },
  {
   "cell_type": "code",
   "execution_count": 1371,
   "metadata": {},
   "outputs": [],
   "source": [
    "y_train_cnt = lm1.predict(X_train_lm) # predicting Y based on Model 1"
   ]
  },
  {
   "cell_type": "code",
   "execution_count": 1372,
   "metadata": {},
   "outputs": [
    {
     "data": {
      "text/plain": [
       "Text(0.5, 0, 'Errors')"
      ]
     },
     "execution_count": 1372,
     "metadata": {},
     "output_type": "execute_result"
    },
    {
     "data": {
      "image/png": "[encoded data removed]",
      "text/plain": [
       "<Figure size 432x288 with 1 Axes>"
      ]
     },
     "metadata": {
      "needs_background": "light"
     },
     "output_type": "display_data"
    }
   ],
   "source": [
    "# Plot the histogram of the error terms\n",
    "fig = plt.figure()\n",
    "sns.distplot((y_train - y_train_cnt), bins = 20)\n",
    "fig.suptitle('Error Terms', fontsize = 20)                  # Plot heading \n",
    "plt.xlabel('Errors', fontsize = 18)  "
   ]
  },
  {
   "cell_type": "markdown",
   "metadata": {},
   "source": [
    "###### Model 2"
   ]
  },
  {
   "cell_type": "code",
   "execution_count": 1373,
   "metadata": {},
   "outputs": [],
   "source": [
    "y_train_cnt1 = lm2.predict(X_train_lm1) # predicting Y based on Model 2"
   ]
  },
  {
   "cell_type": "code",
   "execution_count": 1374,
   "metadata": {},
   "outputs": [
    {
     "data": {
      "text/plain": [
       "Text(0.5, 0, 'Errors')"
      ]
     },
     "execution_count": 1374,
     "metadata": {},
     "output_type": "execute_result"
    },
    {
     "data": {
      "image/png": "[encoded data removed]",
      "text/plain": [
       "<Figure size 432x288 with 1 Axes>"
      ]
     },
     "metadata": {
      "needs_background": "light"
     },
     "output_type": "display_data"
    }
   ],
   "source": [
    "# Plot the histogram of the error terms\n",
    "fig = plt.figure()\n",
    "sns.distplot((y_train - y_train_cnt1), bins = 20)\n",
    "fig.suptitle('Error Terms', fontsize = 20)                  # Plot heading \n",
    "plt.xlabel('Errors', fontsize = 18)    "
   ]
  },
  {
   "cell_type": "markdown",
   "metadata": {},
   "source": [
    "###### Model 3"
   ]
  },
  {
   "cell_type": "code",
   "execution_count": 1375,
   "metadata": {},
   "outputs": [],
   "source": [
    "y_train_cnt2 = lm3.predict(X_train_lm2) # predicting Y based on Model 3"
   ]
  },
  {
   "cell_type": "code",
   "execution_count": 1376,
   "metadata": {},
   "outputs": [
    {
     "data": {
      "text/plain": [
       "Text(0.5, 0, 'Errors')"
      ]
     },
     "execution_count": 1376,
     "metadata": {},
     "output_type": "execute_result"
    },
    {
     "data": {
      "image/png": "[encoded data removed]",
      "text/plain": [
       "<Figure size 432x288 with 1 Axes>"
      ]
     },
     "metadata": {
      "needs_background": "light"
     },
     "output_type": "display_data"
    }
   ],
   "source": [
    "# Plot the histogram of the error terms\n",
    "fig = plt.figure()\n",
    "sns.distplot((y_train - y_train_cnt2), bins = 20)\n",
    "fig.suptitle('Error Terms', fontsize = 20)                  # Plot heading \n",
    "plt.xlabel('Errors', fontsize = 18)    "
   ]
  },
  {
   "cell_type": "code",
   "execution_count": 1428,
   "metadata": {},
   "outputs": [
    {
     "data": {
      "image/png": "[encoded data removed]",
      "text/plain": [
       "<Figure size 432x288 with 1 Axes>"
      ]
     },
     "metadata": {
      "needs_background": "light"
     },
     "output_type": "display_data"
    }
   ],
   "source": [
    "# Checking if the error terms follow any pattern  - one of the assumptions\n",
    "res = y_train-y_train_cnt2\n",
    "\n",
    "plt.scatter(X_train_lm2['temp'],res)\n",
    "plt.xlabel('temp', fontsize=18)                          # X-label\n",
    "plt.ylabel('res', fontsize=16)    \n",
    "plt.show()"
   ]
  },
  {
   "cell_type": "code",
   "execution_count": 1426,
   "metadata": {},
   "outputs": [
    {
     "data": {
      "image/png": "[encoded data removed]",
      "text/plain": [
       "<Figure size 432x288 with 1 Axes>"
      ]
     },
     "metadata": {
      "needs_background": "light"
     },
     "output_type": "display_data"
    }
   ],
   "source": [
    "#Checking if the x and y are linear to each other - one of the assumptions\n",
    "plt.scatter(X_train_lm2['temp'],y_train_cnt2)\n",
    "plt.xlabel('temp', fontsize=18)                          # X-label\n",
    "plt.ylabel('cnt', fontsize=16)    \n",
    "plt.show()"
   ]
  },
  {
   "cell_type": "markdown",
   "metadata": {},
   "source": [
    "###### Model 4"
   ]
  },
  {
   "cell_type": "code",
   "execution_count": 1377,
   "metadata": {},
   "outputs": [],
   "source": [
    "y_train_cnt3 = lm4.predict(X_train_lm3) # predicting Y based on Model 4"
   ]
  },
  {
   "cell_type": "code",
   "execution_count": 1378,
   "metadata": {},
   "outputs": [
    {
     "data": {
      "text/plain": [
       "Text(0.5, 0, 'Errors')"
      ]
     },
     "execution_count": 1378,
     "metadata": {},
     "output_type": "execute_result"
    },
    {
     "data": {
      "image/png": "[encoded data removed]",
      "text/plain": [
       "<Figure size 432x288 with 1 Axes>"
      ]
     },
     "metadata": {
      "needs_background": "light"
     },
     "output_type": "display_data"
    }
   ],
   "source": [
    "# Plot the histogram of the error terms\n",
    "fig = plt.figure()\n",
    "sns.distplot((y_train - y_train_cnt3), bins = 20)\n",
    "fig.suptitle('Error Terms', fontsize = 20)                  # Plot heading \n",
    "plt.xlabel('Errors', fontsize = 18)   "
   ]
  },
  {
   "cell_type": "markdown",
   "metadata": {},
   "source": [
    "From the above represented histogram plot of both model 1,2,3 and 4, we see that all the models show normality in the residual i.e mean 0 and variance same accross them.\n",
    "However, we see that there is a little bump in the intial tail between -0.4 and -0.2 in model 1 and model 3 and Model 4 which is not present in model 2."
   ]
  },
  {
   "cell_type": "markdown",
   "metadata": {},
   "source": [
    "### Making Predictions and Evaluation\n",
    "\n",
    "###### Applying the scaling on the test sets "
   ]
  },
  {
   "cell_type": "code",
   "execution_count": 1379,
   "metadata": {},
   "outputs": [],
   "source": [
    "num_vars = ['yr', 'holiday', 'workingday', 'temp', 'hum','windspeed','cnt']\n",
    "\n",
    "df_test[num_vars] = scaler.transform(df_test[num_vars])"
   ]
  },
  {
   "cell_type": "markdown",
   "metadata": {},
   "source": [
    "###### Dividing into X_test and y_test"
   ]
  },
  {
   "cell_type": "code",
   "execution_count": 1380,
   "metadata": {},
   "outputs": [],
   "source": [
    "y_test = df_test.pop('cnt')\n",
    "X_test = df_test"
   ]
  },
  {
   "cell_type": "markdown",
   "metadata": {},
   "source": [
    "###### Now let's use our models to make predictions.\n",
    "\n",
    "###### Model 1"
   ]
  },
  {
   "cell_type": "code",
   "execution_count": 1381,
   "metadata": {},
   "outputs": [],
   "source": [
    "# Creating X_test_new dataframe by dropping variables from X_test\n",
    "X_test_new = X_test[X_train_new.columns]\n",
    "\n",
    "# Adding a constant variable \n",
    "X_test_new = sm.add_constant(X_test_new)"
   ]
  },
  {
   "cell_type": "code",
   "execution_count": 1382,
   "metadata": {},
   "outputs": [],
   "source": [
    "# Making predictions\n",
    "y_pred = lm1.predict(X_test_new)"
   ]
  },
  {
   "cell_type": "code",
   "execution_count": 1383,
   "metadata": {},
   "outputs": [
    {
     "data": {
      "text/plain": [
       "Text(0, 0.5, 'y_pred')"
      ]
     },
     "execution_count": 1383,
     "metadata": {},
     "output_type": "execute_result"
    },
    {
     "data": {
      "image/png": "[encoded data removed]",
      "text/plain": [
       "<Figure size 432x288 with 1 Axes>"
      ]
     },
     "metadata": {
      "needs_background": "light"
     },
     "output_type": "display_data"
    }
   ],
   "source": [
    "# Plotting y_test and y_pred to understand the spread.\n",
    "fig = plt.figure()\n",
    "plt.scatter(y_test,y_pred)\n",
    "fig.suptitle('y_test vs y_pred', fontsize=20)              # Plot heading \n",
    "plt.xlabel('y_test', fontsize=18)                          # X-label\n",
    "plt.ylabel('y_pred', fontsize=16)     "
   ]
  },
  {
   "cell_type": "code",
   "execution_count": 1384,
   "metadata": {},
   "outputs": [
    {
     "data": {
      "text/plain": [
       "0.816"
      ]
     },
     "execution_count": 1384,
     "metadata": {},
     "output_type": "execute_result"
    }
   ],
   "source": [
    "# Predicted R-Squared for model 1\n",
    "\n",
    "from sklearn.metrics import r2_score\n",
    "round(r2_score(y_test, y_pred),3)"
   ]
  },
  {
   "cell_type": "markdown",
   "metadata": {},
   "source": [
    "###### Model 2 "
   ]
  },
  {
   "cell_type": "code",
   "execution_count": 1385,
   "metadata": {},
   "outputs": [],
   "source": [
    "# Creating X_test_new dataframe by dropping variables from X_test\n",
    "X_test_new1 = X_test[X_train_new1.columns]\n",
    "\n",
    "# Adding a constant variable \n",
    "X_test_new1 = sm.add_constant(X_test_new1)"
   ]
  },
  {
   "cell_type": "code",
   "execution_count": 1386,
   "metadata": {},
   "outputs": [],
   "source": [
    "# Making predictions\n",
    "y_pred1 = lm2.predict(X_test_new1)"
   ]
  },
  {
   "cell_type": "code",
   "execution_count": 1387,
   "metadata": {},
   "outputs": [
    {
     "data": {
      "text/plain": [
       "Text(0, 0.5, 'y_pred1')"
      ]
     },
     "execution_count": 1387,
     "metadata": {},
     "output_type": "execute_result"
    },
    {
     "data": {
      "image/png": "[encoded data removed]",
      "text/plain": [
       "<Figure size 432x288 with 1 Axes>"
      ]
     },
     "metadata": {
      "needs_background": "light"
     },
     "output_type": "display_data"
    }
   ],
   "source": [
    "# Plotting y_test and y_pred to understand the spread.\n",
    "fig = plt.figure()\n",
    "plt.scatter(y_test,y_pred1)\n",
    "fig.suptitle('y_test vs y_pred1', fontsize=20)              # Plot heading \n",
    "plt.xlabel('y_test', fontsize=18)                          # X-label\n",
    "plt.ylabel('y_pred1', fontsize=16)     "
   ]
  },
  {
   "cell_type": "code",
   "execution_count": 1388,
   "metadata": {},
   "outputs": [
    {
     "data": {
      "text/plain": [
       "0.796"
      ]
     },
     "execution_count": 1388,
     "metadata": {},
     "output_type": "execute_result"
    }
   ],
   "source": [
    "# Predicted R-Squared for model 2\n",
    "from sklearn.metrics import r2_score\n",
    "round(r2_score(y_test, y_pred1),3)"
   ]
  },
  {
   "cell_type": "markdown",
   "metadata": {},
   "source": [
    "###### Model 3"
   ]
  },
  {
   "cell_type": "code",
   "execution_count": 1389,
   "metadata": {},
   "outputs": [],
   "source": [
    "# Creating X_test_new dataframe by dropping variables from X_test\n",
    "X_test_new2 = X_test[X_train_new2.columns]\n",
    "\n",
    "# Adding a constant variable \n",
    "X_test_new2 = sm.add_constant(X_test_new2)"
   ]
  },
  {
   "cell_type": "code",
   "execution_count": 1390,
   "metadata": {},
   "outputs": [],
   "source": [
    "# Making predictions\n",
    "y_pred2 = lm3.predict(X_test_new2)"
   ]
  },
  {
   "cell_type": "code",
   "execution_count": 1391,
   "metadata": {},
   "outputs": [
    {
     "data": {
      "text/plain": [
       "Text(0, 0.5, 'y_pred2')"
      ]
     },
     "execution_count": 1391,
     "metadata": {},
     "output_type": "execute_result"
    },
    {
     "data": {
      "image/png": "[encoded data removed]",
      "text/plain": [
       "<Figure size 432x288 with 1 Axes>"
      ]
     },
     "metadata": {
      "needs_background": "light"
     },
     "output_type": "display_data"
    }
   ],
   "source": [
    "# Plotting y_test and y_pred to understand the spread.\n",
    "fig = plt.figure()\n",
    "plt.scatter(y_test,y_pred2)\n",
    "fig.suptitle('y_test vs y_pred2', fontsize=20)              # Plot heading \n",
    "plt.xlabel('y_test', fontsize=18)                          # X-label\n",
    "plt.ylabel('y_pred2', fontsize=16)   "
   ]
  },
  {
   "cell_type": "code",
   "execution_count": 1392,
   "metadata": {},
   "outputs": [
    {
     "data": {
      "text/plain": [
       "0.796"
      ]
     },
     "execution_count": 1392,
     "metadata": {},
     "output_type": "execute_result"
    }
   ],
   "source": [
    "# Predicted R-Squared for model 3\n",
    "from sklearn.metrics import r2_score\n",
    "round(r2_score(y_test, y_pred2),3)"
   ]
  },
  {
   "cell_type": "markdown",
   "metadata": {},
   "source": [
    "###### Model 4"
   ]
  },
  {
   "cell_type": "code",
   "execution_count": 1393,
   "metadata": {},
   "outputs": [],
   "source": [
    "# Creating X_test_new dataframe by dropping variables from X_test\n",
    "X_test_new3 = X_test[X_train_new3.columns]\n",
    "\n",
    "# Adding a constant variable \n",
    "X_test_new3 = sm.add_constant(X_test_new3)"
   ]
  },
  {
   "cell_type": "code",
   "execution_count": 1394,
   "metadata": {},
   "outputs": [],
   "source": [
    "# Making predictions\n",
    "y_pred3 = lm4.predict(X_test_new3)"
   ]
  },
  {
   "cell_type": "code",
   "execution_count": 1395,
   "metadata": {},
   "outputs": [
    {
     "data": {
      "text/plain": [
       "Text(0, 0.5, 'y_pred3')"
      ]
     },
     "execution_count": 1395,
     "metadata": {},
     "output_type": "execute_result"
    },
    {
     "data": {
      "image/png": "[encoded data removed]",
      "text/plain": [
       "<Figure size 432x288 with 1 Axes>"
      ]
     },
     "metadata": {
      "needs_background": "light"
     },
     "output_type": "display_data"
    }
   ],
   "source": [
    "# Plotting y_test and y_pred to understand the spread.\n",
    "fig = plt.figure()\n",
    "plt.scatter(y_test,y_pred3)\n",
    "fig.suptitle('y_test vs y_pred3', fontsize=20)              # Plot heading \n",
    "plt.xlabel('y_test', fontsize=18)                          # X-label\n",
    "plt.ylabel('y_pred3', fontsize=16)   "
   ]
  },
  {
   "cell_type": "code",
   "execution_count": 1396,
   "metadata": {},
   "outputs": [
    {
     "data": {
      "text/plain": [
       "0.782"
      ]
     },
     "execution_count": 1396,
     "metadata": {},
     "output_type": "execute_result"
    }
   ],
   "source": [
    "# Predicted R-Squared for model 3\n",
    "from sklearn.metrics import r2_score\n",
    "round(r2_score(y_test, y_pred3),3)"
   ]
  },
  {
   "cell_type": "markdown",
   "metadata": {},
   "source": [
    "The predicting power of the both the models are quite close and both of them are giving linear predicted graph and giving nest fit line as linear.<br>\n",
    "\n",
    "Model 1 has :<br>\n",
    "`Train R-squared : 0.847`<br>\n",
    "`Adj. R-squared : 0.843`<br>\n",
    "`predicted R-Squared : 0.82` \n",
    "\n",
    "Model 2 has :<br>\n",
    "`Train R-squared : 0.837`<br>\n",
    "`Adj. R-squared : 0.834`<br>\n",
    "`predicted R-Squared : 0.796` \n",
    "\n",
    "Model 3 has :<br>\n",
    "`Train R-squared : 0.813`<br>\n",
    "`Adj. R-squared : 0.811`<br>\n",
    "`predicted R-Squared : 0.796` \n",
    "\n",
    "Model 4 has :<br>\n",
    "`Train R-squared : 0.813`<br>\n",
    "`Adj. R-squared : 0.811`<br>\n",
    "`predicted R-Squared : 0.782` \n",
    "\n",
    "\n",
    "Now, we need to decide which model to use as both of them have good performance and prediction power. \n",
    "\n",
    "We will here now compare the number of variables used in both of them. Model 1 has 13 variables while Model 2 has 10 variables and Model 3 and Model 4 has 7 variables each.\n",
    "\n",
    "Since the Model 3 and 4 have same number of features, we will select Model 3 as it is having better prediction power than that of Model 4.\n",
    "\n",
    "So, out of Model 2 and 3, we see that both of them have same prediction power i.e. 0.796. So, we will select Model 3 as it is capable of predicting same as that of Model 2 but with less number of features. \n",
    "\n",
    "We tend to incline towards the model which gives best fit line along with considerable number of variables.\n",
    "\n",
    "Hence, Among these Model 1 and Model 3, we will choose Model 3 as our final Model even though the prediction power is little less than that Model 2 because it is having <10 variables which accounts to be a base for good model."
   ]
  },
  {
   "cell_type": "markdown",
   "metadata": {},
   "source": [
    "###### Final Model :\n",
    "\n",
    "`predicted R-Squared     : 0.80` <br>\n",
    "`Variables in the Model  : `<br>\n",
    "`'yr', 'temp', 'summer', 'winter', 'Sept','Light Snow + Rain', 'Mist + Cloudy'`\n",
    "\n",
    "\n",
    "#### Recomendation : \n",
    "\n",
    "1. The variables `'yr', 'temp', 'summer', 'winter', 'Sept','Light Snow + Rain', 'Mist + Cloudy'` are significant in predicting the demands of the shared bikes.\n",
    "2. We can explain how well the selected variables describe the demands of shared bikes by deriving the below Linear Equation :\n",
    "\n",
    "$ cnt = (0.232  \\times  yr)  + (0.578 \\times temp) + (0.083 \\times summer) + (0.137\\times winter) + (0.105\\times Sept) - (0.295 \\times Light Snow + Rain) - (0.076 \\times Mist + Cloudy) $\n",
    "\n",
    "So, from the linear equation we can recomend that : <br>\n",
    "1. With every one unit increase in `yr`, the cnt increases by `0.232`\n",
    "2. With every one unit increase in `temp`, the cnt increases by `0.578`\n",
    "3. When season `summer` arrives, the cnt increases by `0.083`\n",
    "4. When season `winter`arrives, the cnt increases by `0.137`\n",
    "5. During `Sept` month, the cnt increases by `0.105`\n",
    "6. When weather is `Light Snow + Rain`, the cnt decreases by `0.295`\n",
    "7. When weather is `Mist + Cloudy`, the cnt decreases by `0.076`"
   ]
  }
 ],
 "metadata": {
  "kernelspec": {
   "display_name": "Python 3",
   "language": "python",
   "name": "python3"
  },
  "language_info": {
   "codemirror_mode": {
    "name": "ipython",
    "version": 3
   },
   "file_extension": ".py",
   "mimetype": "text/x-python",
   "name": "python",
   "nbconvert_exporter": "python",
   "pygments_lexer": "ipython3",
   "version": "3.8.3"
  }
 },
 "nbformat": 4,
 "nbformat_minor": 2
}
